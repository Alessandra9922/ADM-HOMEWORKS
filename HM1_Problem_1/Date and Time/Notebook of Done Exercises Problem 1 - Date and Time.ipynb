{
 "cells": [
  {
   "cell_type": "markdown",
   "id": "1a0c7ac7",
   "metadata": {},
   "source": [
    "## RESOLUTION OF EXERCISES REQUIRED IN PROBLEM 1 \n",
    "### Sixth Section: Date and Time"
   ]
  },
  {
   "cell_type": "markdown",
   "id": "6a1cc477",
   "metadata": {},
   "source": [
    "### Exercise n° 1 - Calendar Module\n",
    "##### Reference: https://www.hackerrank.com/challenges/calendar-module/problem?isFullScreen=true\n",
    "##### This exercise is focused on learn the use of the class calendar. The task is to find what the day is on that date"
   ]
  },
  {
   "cell_type": "code",
   "execution_count": null,
   "id": "34752261",
   "metadata": {},
   "outputs": [],
   "source": [
    "######################################################################\n",
    "#                                                                    #\n",
    "# MY CODE: The aim of the exercise is to learn what can we do with   #\n",
    "#          with the class calendar. I have in input a date and I have#\n",
    "#          to print what day of the week was. To do that I use the   #\n",
    "#          command calendar.day_name that gives me in output the day #                                                      \n",
    "#          of that date and because I want the day printed in        #\n",
    "#          uppercase letters I add the command .upper()              #\n",
    "#                                                                    #\n",
    "######################################################################\n",
    "\n",
    "import calendar\n",
    "\n",
    "MM,DD,YYYY = map(int, input().split())\n",
    "print (calendar.day_name[calendar.weekday(YYYY, MM, DD)].upper())"
   ]
  },
  {
   "cell_type": "markdown",
   "id": "2ce6dc24",
   "metadata": {},
   "source": [
    "### Exercise n° 2 - Time Delta\n",
    "##### Reference: https://www.hackerrank.com/challenges/python-time-delta/problem?isFullScreen=true\n",
    "##### This exercise is focused on doing a code that shows me what is the absolute difference between the moment is viewed a post all round the world. This is possible thanks to the datetime class"
   ]
  },
  {
   "cell_type": "code",
   "execution_count": null,
   "id": "b37066bd",
   "metadata": {},
   "outputs": [],
   "source": [
    "#!/bin/python3\n",
    "\n",
    "import math\n",
    "import os\n",
    "import random\n",
    "import re\n",
    "import sys\n",
    "\n",
    "##########################################################################\n",
    "#                                                                        #\n",
    "# MY CODE:  This function calculates the absolute difference in          #\n",
    "#           seconds between two provided timestamps. The function        #\n",
    "#           accepts two timestamp strings 't1' and 't2' in the specified #\n",
    "#           format and using Python's 'datetime' module, these timestamp #\n",
    "#           strings are converted into datetime objects. The result is   #\n",
    "#           the total number of seconds difference, which is returned    #\n",
    "#           as a string.                                                 #\n",
    "#                                                                        #\n",
    "##########################################################################\n",
    "\n",
    "from datetime import datetime\n",
    "\n",
    "def time_delta(t1, t2):\n",
    "    t1 = datetime.strptime(t1, '%a %d %b %Y %H:%M:%S %z')\n",
    "    t2 = datetime.strptime(t2, '%a %d %b %Y %H:%M:%S %z')\n",
    "    return str(int(abs((t1-t2).total_seconds())))  \n",
    "\n",
    "####################\n",
    "#                  #\n",
    "#   CODE PROVIDED  #\n",
    "#   BY HACKERANK   #\n",
    "#                  #\n",
    "####################\n",
    "\n",
    "if __name__ == '__main__':\n",
    "    fptr = open(os.environ['OUTPUT_PATH'], 'w')\n",
    "\n",
    "    t = int(input())\n",
    "\n",
    "    for t_itr in range(t):\n",
    "        t1 = input()\n",
    "\n",
    "        t2 = input()\n",
    "\n",
    "        delta = time_delta(t1, t2)\n",
    "\n",
    "        fptr.write(delta + '\\n')\n",
    "\n",
    "    fptr.close()\n"
   ]
  }
 ],
 "metadata": {
  "kernelspec": {
   "display_name": "Python 3 (ipykernel)",
   "language": "python",
   "name": "python3"
  },
  "language_info": {
   "codemirror_mode": {
    "name": "ipython",
    "version": 3
   },
   "file_extension": ".py",
   "mimetype": "text/x-python",
   "name": "python",
   "nbconvert_exporter": "python",
   "pygments_lexer": "ipython3",
   "version": "3.11.4"
  }
 },
 "nbformat": 4,
 "nbformat_minor": 5
}
