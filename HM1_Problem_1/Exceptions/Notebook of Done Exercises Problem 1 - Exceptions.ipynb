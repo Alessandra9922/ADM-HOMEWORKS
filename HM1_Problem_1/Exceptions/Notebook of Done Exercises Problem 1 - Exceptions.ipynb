{
 "cells": [
  {
   "cell_type": "markdown",
   "id": "f1f5f684",
   "metadata": {},
   "source": [
    "## RESOLUTION OF EXERCISES REQUIRED IN PROBLEM 1 \n",
    "### Seventh Section: Exceptions"
   ]
  },
  {
   "cell_type": "markdown",
   "id": "762d6d89",
   "metadata": {},
   "source": [
    "### Exercise\n",
    "##### Reference: https://www.hackerrank.com/challenges/exceptions/problem\n",
    "##### This exercise is focused on learning in what way if we want we can \"escape\" the \"Error\". The task is to perform integer division between two numbers and if it is not possible printing and exception"
   ]
  },
  {
   "cell_type": "code",
   "execution_count": null,
   "id": "2da6f87c",
   "metadata": {},
   "outputs": [],
   "source": [
    "######################################################################                                                                                                                         ######################################################################\n",
    "#                                                                    #\n",
    "# MY CODE: Giving two variables a and b in input I try to do the     #\n",
    "#          integer division and if it is possible print the result   #\n",
    "#          instead if I have aspected to have a messagge Error I     #\n",
    "#          print an exception with the command \"except\"              #\n",
    "#                                                                    #\n",
    "######################################################################\n",
    "\n",
    "T=int(input())\n",
    "for _ in range(T):\n",
    "    a,b=input().split()\n",
    "    try:\n",
    "        int(a)//int(b)\n",
    "    except ValueError as e:\n",
    "        print(\"Error Code:\", e)\n",
    "    except ZeroDivisionError as e:\n",
    "        print (\"Error Code:\",e)\n",
    "    else:\n",
    "        print(int(a)//int(b))"
   ]
  }
 ],
 "metadata": {
  "kernelspec": {
   "display_name": "Python 3 (ipykernel)",
   "language": "python",
   "name": "python3"
  },
  "language_info": {
   "codemirror_mode": {
    "name": "ipython",
    "version": 3
   },
   "file_extension": ".py",
   "mimetype": "text/x-python",
   "name": "python",
   "nbconvert_exporter": "python",
   "pygments_lexer": "ipython3",
   "version": "3.11.4"
  }
 },
 "nbformat": 4,
 "nbformat_minor": 5
}
