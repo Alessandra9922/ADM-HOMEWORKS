{
 "cells": [
  {
   "cell_type": "markdown",
   "id": "cec853ad",
   "metadata": {},
   "source": [
    "## RESOLUTION OF EXERCISES REQUIRED IN PROBLEM 1 \n",
    "### Ninth Section: Python Functionals"
   ]
  },
  {
   "cell_type": "markdown",
   "id": "fa6e0d3b",
   "metadata": {},
   "source": [
    "### Exercise n° 1 - Map and Lambda Function\n",
    "##### Reference: https://www.hackerrank.com/challenges/map-and-lambda-expression/problem\n",
    "##### This excercise is focused on learning the use of Map() and Lambda()"
   ]
  },
  {
   "cell_type": "code",
   "execution_count": null,
   "id": "0220b9c1",
   "metadata": {},
   "outputs": [],
   "source": [
    "#######################################################################\n",
    "#                                                                     #\n",
    "# MY CODE: The task is to generate a list of the first N fibonacci    #\n",
    "#          number so I create a function that return the fibonacci    #\n",
    "#          series, using the loop while and the function .append() to #\n",
    "#          insert the fibonacci number in a list, then is due to apply# \n",
    "#          the lambda expression to cube each fibonacci number and    #\n",
    "#          then print it using map function                           #\n",
    "#                                                                     #\n",
    "#######################################################################\n",
    "\n",
    "cube = lambda x: x**3\n",
    "\n",
    "def fibonacci(n):\n",
    "    fibo = [] \n",
    "    a, b = 0, 1 \n",
    "    while len(fibo) < n: \n",
    "        fibo.append(a) \n",
    "        a, b = b, a+b \n",
    "    return fibo\n",
    "\n",
    "####################\n",
    "#                  #\n",
    "#   CODE PROVIDED  #\n",
    "#   BY HACKERANK   #\n",
    "#                  #\n",
    "####################\n",
    "\n",
    "if __name__ == '__main__':\n",
    "    n = int(input())\n",
    "    print(list(map(cube, fibonacci(n))))\n"
   ]
  }
 ],
 "metadata": {
  "kernelspec": {
   "display_name": "Python 3 (ipykernel)",
   "language": "python",
   "name": "python3"
  },
  "language_info": {
   "codemirror_mode": {
    "name": "ipython",
    "version": 3
   },
   "file_extension": ".py",
   "mimetype": "text/x-python",
   "name": "python",
   "nbconvert_exporter": "python",
   "pygments_lexer": "ipython3",
   "version": "3.11.4"
  }
 },
 "nbformat": 4,
 "nbformat_minor": 5
}
