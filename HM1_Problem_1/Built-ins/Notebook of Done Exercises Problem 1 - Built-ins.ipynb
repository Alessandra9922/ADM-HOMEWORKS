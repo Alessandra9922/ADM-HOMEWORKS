{
 "cells": [
  {
   "cell_type": "markdown",
   "id": "1710f6c7",
   "metadata": {},
   "source": [
    "## RESOLUTION OF EXERCISES REQUIRED IN PROBLEM 1 \n",
    "### Eighth Section: Built-ins"
   ]
  },
  {
   "cell_type": "markdown",
   "id": "27ed96f1",
   "metadata": {},
   "source": [
    "### Exercise n° 1 - Zipped!\n",
    "##### Reference: https://www.hackerrank.com/challenges/zipped/problem?isFullScreen=true\n",
    "##### This exercise is focused on learning the use of the function zip()"
   ]
  },
  {
   "cell_type": "code",
   "execution_count": null,
   "id": "34e63b66",
   "metadata": {},
   "outputs": [],
   "source": [
    "######################################################################                                                                                                                         ######################################################################\n",
    "#                                                                    #\n",
    "# MY CODE: The code calculates the average of student marks over 'X' # \n",
    "#          subjects for 'N' students. It first reads the number of   # \n",
    "#          students 'N' and the number of subjects 'X'. Using a      #\n",
    "#          nested list comprehension, it reads the marks for all     #\n",
    "#          subjects and students. The 'zip' function is then used to #\n",
    "#          transpose the list, effectively grouping marks by student #\n",
    "#          The code then iterates through each student's marks,      #\n",
    "#          calculates the average, and prints it with one decimal    #\n",
    "#          precision.                                                #\n",
    "#                                                                    #\n",
    "######################################################################\n",
    "\n",
    "N, X = map(int, input().split())\n",
    "zipped_values = list(zip(*(map(float, input().split()) for i in range(X))))\n",
    "for i in range(N):\n",
    "    summ=0\n",
    "    for j in range(X):\n",
    "        summ+=zipped_values[i][j]\n",
    "    avarage=summ/X\n",
    "    print(\"{:.1f}\".format(avarage))"
   ]
  },
  {
   "cell_type": "markdown",
   "id": "97bf3702",
   "metadata": {},
   "source": [
    "### Exercise n° 2 - Athlete Sort\n",
    "##### Reference: https://www.hackerrank.com/challenges/python-sort-sort/problem\n",
    "##### This exercise is focused on learning how to sort focusing on a determinate attribute. The task is that I have a student table with some attributes and each attributes has some data stored, I have to print the table sorted "
   ]
  },
  {
   "cell_type": "code",
   "execution_count": null,
   "id": "dd7ee8c0",
   "metadata": {},
   "outputs": [],
   "source": [
    "####################\n",
    "#                  #\n",
    "#   CODE PROVIDED  #\n",
    "#   BY HACKERANK   #\n",
    "#                  #\n",
    "####################\n",
    "\n",
    "#!/bin/python3\n",
    "\n",
    "import math\n",
    "import os\n",
    "import random\n",
    "import re\n",
    "import sys\n",
    "\n",
    "\n",
    "\n",
    "if __name__ == '__main__':\n",
    "    first_multiple_input = input().rstrip().split()\n",
    "\n",
    "    n = int(first_multiple_input[0])\n",
    "\n",
    "    m = int(first_multiple_input[1])\n",
    "\n",
    "\n",
    "\n",
    "    arr = []\n",
    "\n",
    "    for _ in range(n):\n",
    "        arr.append(list(map(int, input().rstrip().split())))\n",
    "\n",
    "    k = int(input().strip())\n",
    "    \n",
    "#######################################################################\n",
    "#                                                                     #\n",
    "# MY CODE: The code sorts a multi-dimensional list 'arr' based on     #\n",
    "#          the elements present in the 'k'th index of its inner lists.#\n",
    "#          It uses a custom sorting key, defined by a lambda function,#\n",
    "#          to sort 'arr' based on the 'k'th element of its inner      #\n",
    "#          lists. After sorting, the code then iterates over the      # \n",
    "#          sorted 'arr' and prints each of its inner lists, element   #\n",
    "#          by element, separated by spaces.                           #\n",
    "#                                                                     #\n",
    "#######################################################################\n",
    "    \n",
    "    arr.sort(key=lambda arr : arr[k])\n",
    "    for i in arr:\n",
    "        for j in range(m):\n",
    "            print(i[j], end=' ')\n",
    "        print(' ')"
   ]
  },
  {
   "cell_type": "markdown",
   "id": "ddee2fb1",
   "metadata": {},
   "source": [
    "### Exercise n° 3 - ginortS\n",
    "##### Reference: https://www.hackerrank.com/challenges/ginorts/problem\n",
    "##### This exercise is focused onsort string bucause the task is to, given a string, print the sorted string in the following manner: All sorted lowercase letters are ahead of uppercase letters. All sorted uppercase letters are ahead of digits. All sorted odd digits are ahead of sorted even digits."
   ]
  },
  {
   "cell_type": "code",
   "execution_count": null,
   "id": "9e4c8ec5",
   "metadata": {},
   "outputs": [],
   "source": [
    "######################################################################                                                                                                                         ######################################################################\n",
    "#                                                                    #\n",
    "# MY CODE: Using the command lambda in the command \"sorted\" I can    #\n",
    "#          sort something with reference to this, so I sorted the    #\n",
    "#          string with the constraint that I have to do              #\n",
    "#                                                                    #\n",
    "######################################################################\n",
    "\n",
    "s = input()\n",
    "s = sorted(s,key = lambda x:(x.isdigit() and int(x)%2==0, x.isdigit(), x.isupper(),x.islower(), x))\n",
    "for i in s:\n",
    "    print(i, end='')\n"
   ]
  }
 ],
 "metadata": {
  "kernelspec": {
   "display_name": "Python 3 (ipykernel)",
   "language": "python",
   "name": "python3"
  },
  "language_info": {
   "codemirror_mode": {
    "name": "ipython",
    "version": 3
   },
   "file_extension": ".py",
   "mimetype": "text/x-python",
   "name": "python",
   "nbconvert_exporter": "python",
   "pygments_lexer": "ipython3",
   "version": "3.11.4"
  }
 },
 "nbformat": 4,
 "nbformat_minor": 5
}
