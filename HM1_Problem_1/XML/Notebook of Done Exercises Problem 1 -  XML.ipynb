{
 "cells": [
  {
   "cell_type": "markdown",
   "id": "113742e4",
   "metadata": {},
   "source": [
    "## RESOLUTION OF EXERCISES REQUIRED IN PROBLEM 1 \n",
    "### Eleventh Section: XML"
   ]
  },
  {
   "cell_type": "markdown",
   "id": "82906d24",
   "metadata": {},
   "source": [
    "### Exercise n° 1 - XML 1 - Find the Score\n",
    "##### Reference: https://www.hackerrank.com/challenges/xml-1-find-the-score/problem?isFullScreen=true\n",
    "##### This excercise is focused on demonstrate the utility of recursion in processing tree-like structures, such as XML, to aggregate information from nodes at various depths."
   ]
  },
  {
   "cell_type": "code",
   "execution_count": null,
   "id": "85845ed2",
   "metadata": {},
   "outputs": [],
   "source": [
    "####################\n",
    "#                  #\n",
    "#   CODE PROVIDED  #\n",
    "#   BY HACKERANK   #\n",
    "#                  #\n",
    "####################\n",
    "\n",
    "import sys\n",
    "import xml.etree.ElementTree as etree\n",
    "\n",
    "######################################################################                                                                                                                         ######################################################################\n",
    "#                                                                    #\n",
    "# MY CODE: This function recursively computes the total number of    #\n",
    "#          attributes in an XML node and its descendants. For the    #\n",
    "#          current 'node', the number of attributes is determined    #\n",
    "#          using 'len(node.attrib)'. The function then recursively   #\n",
    "#          traverses all child nodes (if any) to accumulate their    #\n",
    "#          attribute counts. The total attribute count for the node  #\n",
    "#          and its descendants is returned.                          #\n",
    "#                                                                    #\n",
    "######################################################################\n",
    "\n",
    "def get_attr_number(node):\n",
    "    count = len(node.attrib)\n",
    "    for x in node:\n",
    "        count += get_attr_number(x)\n",
    "    return count\n",
    "\n",
    "####################\n",
    "#                  #\n",
    "#   CODE PROVIDED  #\n",
    "#   BY HACKERANK   #\n",
    "#                  #\n",
    "####################\n",
    "\n",
    "if __name__ == '__main__':\n",
    "    sys.stdin.readline()\n",
    "    xml = sys.stdin.read()\n",
    "    tree = etree.ElementTree(etree.fromstring(xml))\n",
    "    root = tree.getroot()\n",
    "    print(get_attr_number(root))"
   ]
  },
  {
   "cell_type": "markdown",
   "id": "204adce8",
   "metadata": {},
   "source": [
    "### Exercise n° 2 - XML 2 - Find the Maximum Depth\n",
    "##### Reference: https://www.hackerrank.com/challenges/xml2-find-the-maximum-depth/problem?isFullScreen=true\n",
    "##### This excercise is focused on illustrate the application of recursion in analyzing XML structures and determining the depth of nested elements."
   ]
  },
  {
   "cell_type": "code",
   "execution_count": null,
   "id": "d3911466",
   "metadata": {},
   "outputs": [],
   "source": [
    "####################\n",
    "#                  #\n",
    "#   CODE PROVIDED  #\n",
    "#   BY HACKERANK   #\n",
    "#                  #\n",
    "####################\n",
    "\n",
    "import xml.etree.ElementTree as etree\n",
    "\n",
    "######################################################################                                                                                                                         ######################################################################\n",
    "#                                                                    #\n",
    "# MY CODE: This function recursively determines the maximum depth of # \n",
    "#          an XML element tree.'depth' starts at the root 'elem' and #\n",
    "#          traverses its descendants, incrementing the 'level' with  #\n",
    "#          each deeper layer. If the current 'level' exceeds the known \n",
    "#          'maxdepth', it updates 'maxdepth'. The recursion ensures  #\n",
    "#          that every branch of the element tree is explored to find #\n",
    "#          the deepest level. The resulting maximum depth is stored  #\n",
    "#          in the global variable 'maxdepth'.                        #\n",
    "#                                                                    #\n",
    "######################################################################\n",
    "\n",
    "maxdepth = 0\n",
    "def depth(elem, level):\n",
    "    global maxdepth\n",
    "    level += 1\n",
    "    if level > maxdepth:\n",
    "        maxdepth = level\n",
    "    for x in elem:\n",
    "        depth(x, level)\n",
    "\n",
    "####################\n",
    "#                  #\n",
    "#   CODE PROVIDED  #\n",
    "#   BY HACKERANK   #\n",
    "#                  #\n",
    "####################\n",
    "        \n",
    "if __name__ == '__main__':\n",
    "    n = int(input())\n",
    "    xml = \"\"\n",
    "    for i in range(n):\n",
    "        xml =  xml + input() + \"\\n\"\n",
    "    tree = etree.ElementTree(etree.fromstring(xml))\n",
    "    depth(tree.getroot(), -1)\n",
    "    print(maxdepth)"
   ]
  }
 ],
 "metadata": {
  "kernelspec": {
   "display_name": "Python 3 (ipykernel)",
   "language": "python",
   "name": "python3"
  },
  "language_info": {
   "codemirror_mode": {
    "name": "ipython",
    "version": 3
   },
   "file_extension": ".py",
   "mimetype": "text/x-python",
   "name": "python",
   "nbconvert_exporter": "python",
   "pygments_lexer": "ipython3",
   "version": "3.11.4"
  }
 },
 "nbformat": 4,
 "nbformat_minor": 5
}
