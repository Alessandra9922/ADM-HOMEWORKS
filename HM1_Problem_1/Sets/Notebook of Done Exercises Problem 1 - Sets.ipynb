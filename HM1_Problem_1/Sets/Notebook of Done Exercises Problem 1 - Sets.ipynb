{
 "cells": [
  {
   "cell_type": "markdown",
   "id": "a37d14cd",
   "metadata": {},
   "source": [
    "## RESOLUTION OF EXERCISES REQUIRED IN PROBLEM 1 \n",
    "### Fourth Section: Sets"
   ]
  },
  {
   "cell_type": "markdown",
   "id": "43f03539",
   "metadata": {},
   "source": [
    "### Exercise n° 1 - Introduction to Sets\n",
    "##### Reference: https://www.hackerrank.com/challenges/py-introduction-to-sets/problem?isFullScreen=true\n",
    "##### This exercise is focused on set and calculating avarage"
   ]
  },
  {
   "cell_type": "code",
   "execution_count": null,
   "id": "064ea009",
   "metadata": {},
   "outputs": [],
   "source": [
    "######################################################################\n",
    "#                                                                    #\n",
    "# MY FUNCTION: In this function I use a one line of code to return   #\n",
    "#              the result that calculate the avarage of the input    #\n",
    "#              and then I print it with 3 decimal with the use of    #\n",
    "#              {:.f}.format()                                        #\n",
    "#                                                                    #    \n",
    "######################################################################\n",
    "\n",
    "def average(array):\n",
    "    return \"{:.3f}\".format(sum(set(array))/len(set(array)))\n",
    "\n",
    "####################\n",
    "#                  #\n",
    "#   CODE PROVIDED  #\n",
    "#   BY HACKERANK   #\n",
    "#                  #\n",
    "####################\n",
    "\n",
    "if __name__ == '__main__':\n",
    "    n = int(input())\n",
    "    arr = list(map(int, input().split()))\n",
    "    result = average(arr)\n",
    "    print(result)"
   ]
  },
  {
   "cell_type": "markdown",
   "id": "0f50e3c8",
   "metadata": {},
   "source": [
    "### Exercise n° 2 - No Idea!\n",
    "##### Reference: https://www.hackerrank.com/challenges/no-idea/problem?isFullScreen=true\n",
    "##### This exercise is focused on doing operation with set"
   ]
  },
  {
   "cell_type": "code",
   "execution_count": null,
   "id": "545bc42d",
   "metadata": {},
   "outputs": [],
   "source": [
    "######################################################################\n",
    "#                                                                    #\n",
    "# MY CODE: I take in input 2 integer, lenghts of two sets, then with #\n",
    "#          for loop and if-else statement I incrise every time the   #\n",
    "#          variable \"happiness\" when a element is in A but not in B  #\n",
    "#          I'm using sets because in them I have unique elements     #\n",
    "#                                                                    #    \n",
    "######################################################################\n",
    "\n",
    "N,M = map(int, input().split())\n",
    "line1 = map(int, input().split())\n",
    "line2 = set(map(int, input().split()))\n",
    "line3 = set(map(int, input().split()))\n",
    "happiness=0\n",
    "for i in line1:\n",
    "    if i in line2:\n",
    "        happiness+=1\n",
    "    elif i in line3:\n",
    "        happiness+=-1\n",
    "print(happiness)"
   ]
  },
  {
   "cell_type": "markdown",
   "id": "0a84065a",
   "metadata": {},
   "source": [
    "### Exercise n° 3 - Symmetric Difference\n",
    "##### Reference: https://www.hackerrank.com/challenges/symmetric-difference/problem?isFullScreen=true\n",
    "##### This exercise is focused on the use of Symmetric Difference between sets"
   ]
  },
  {
   "cell_type": "code",
   "execution_count": null,
   "id": "c15d6617",
   "metadata": {},
   "outputs": [],
   "source": [
    "######################################################################\n",
    "#                                                                    #\n",
    "# MY CODE:     I take in input 2 integer, lenghts of two sets, the I #\n",
    "#              transformed them into a set to have unique variables  #\n",
    "#              then the results is the symmetric difference, calcuted#\n",
    "#              with union, difference and intersection, then I sort  #\n",
    "#              it to have the result in ascending order              #\n",
    "#                                                                    #    \n",
    "######################################################################\n",
    "\n",
    "M= int(input())\n",
    "line1 = set(map(int, input().split()))\n",
    "N= int(input())\n",
    "line2 = set(map(int, input().split()))\n",
    "result = list((line1.union(line2)).difference(line1.intersection(line2)))\n",
    "result.sort()\n",
    "for i in result:\n",
    "    print(i)"
   ]
  },
  {
   "cell_type": "markdown",
   "id": "c4a9cc35",
   "metadata": {},
   "source": [
    "### Exercise n° 4 - Set.add()\n",
    "##### Reference: https://www.hackerrank.com/challenges/py-set-add/problem?isFullScreen=true\n",
    "##### This exercise is focused on the use of .add()"
   ]
  },
  {
   "cell_type": "code",
   "execution_count": null,
   "id": "a113e8ad",
   "metadata": {},
   "outputs": [],
   "source": [
    "######################################################################\n",
    "#                                                                    #\n",
    "# MY CODE: I use the .add() command for sets that sums all the       #          \n",
    "#          occurence of the set                                      #\n",
    "#                                                                    #    \n",
    "######################################################################\n",
    "\n",
    "N = int(input())\n",
    "s=set()\n",
    "for i in range(N):\n",
    "    s.add(input())\n",
    "print(len(s))"
   ]
  },
  {
   "cell_type": "markdown",
   "id": "8f2ad9d2",
   "metadata": {},
   "source": [
    "### Exercise n° 5 - Set .discard(), .remove() & .pop()\n",
    "##### Reference: https://www.hackerrank.com/challenges/py-set-discard-remove-pop/problem?isFullScreen=true\n",
    "##### This exercise is focused on the use of .discard(), .remove() & .pop() on sets"
   ]
  },
  {
   "cell_type": "code",
   "execution_count": null,
   "id": "cd3f2731",
   "metadata": {},
   "outputs": [],
   "source": [
    "######################################################################\n",
    "#                                                                    #\n",
    "# MY CODE: I take in input a set, a integer (number of elements of   #\n",
    "#          set and a series of informations. With a for loop and     #\n",
    "#          if-else I do the command for sets. The final results is   #\n",
    "#          the some of all the elements left in the set              #\n",
    "#                                                                    #    \n",
    "######################################################################\n",
    "\n",
    "\n",
    "n = int(input())\n",
    "s = set(map(int, input().split()))\n",
    "N = int(input())\n",
    "for _ in range(N):\n",
    "    operation = input().split()\n",
    "    if operation[0] == 'pop':\n",
    "        if s:\n",
    "            s.pop()\n",
    "    elif operation[0] == 'remove':\n",
    "        if int(operation[1]) in s:\n",
    "            s.remove(int(operation[1]))\n",
    "    elif operation[0] == 'discard':\n",
    "        s.discard(int(operation[1]))\n",
    "print(sum(s))\n"
   ]
  },
  {
   "cell_type": "markdown",
   "id": "691a4dfc",
   "metadata": {},
   "source": [
    "### Exercise n° 6 - Set .union() Operation\n",
    "##### Reference: https://www.hackerrank.com/challenges/py-set-union/problem?isFullScreen=true\n",
    "##### This exercise is focused on the use of .union() for sets"
   ]
  },
  {
   "cell_type": "code",
   "execution_count": null,
   "id": "79ad0b22",
   "metadata": {},
   "outputs": [],
   "source": [
    "######################################################################\n",
    "#                                                                    #\n",
    "# MY CODE:     I want to find the total number of students who have  #\n",
    "#              at least one subscription and to do this I take an    #\n",
    "#              integer and a set of data and then using the command  #          \n",
    "#              .union() to see the results very quickly.             #\n",
    "#                                                                    #    \n",
    "######################################################################\n",
    "\n",
    "n = int(input())\n",
    "students_English = set(map(int, input().split()))\n",
    "b = int(input())\n",
    "students_French = set(map(int, input().split()))\n",
    "print(len(students_English.union(students_French)))"
   ]
  },
  {
   "cell_type": "markdown",
   "id": "8259e6f6",
   "metadata": {},
   "source": [
    "### Exercise n° 7 - Set .intersection() Operation\n",
    "##### Reference: https://www.hackerrank.com/challenges/py-set-intersection-operation/problem?isFullScreen=true\n",
    "##### This exercise is focused on the .intersection() for sets"
   ]
  },
  {
   "cell_type": "code",
   "execution_count": null,
   "id": "8edfb550",
   "metadata": {},
   "outputs": [],
   "source": [
    "######################################################################\n",
    "#                                                                    #\n",
    "# MY CODE:     I want to find the total number of students who have  #\n",
    "#              both subscription at a certain journal and to do this # \n",
    "#              I take an nteger and a set of data and then using the #\n",
    "#              command .intersection() to see the results very quickly.#            \n",
    "#                                                                    #    \n",
    "######################################################################\n",
    "\n",
    "n = int(input())\n",
    "students_English = set(map(int, input().split()))\n",
    "b = int(input())\n",
    "students_French = set(map(int, input().split()))\n",
    "print(len(students_English.intersection(students_French)))"
   ]
  },
  {
   "cell_type": "markdown",
   "id": "edbda598",
   "metadata": {},
   "source": [
    "### Exercise n° 8 -  Set .diference() Operation\n",
    "##### Reference: https://www.hackerrank.com/challenges/py-set-difference-operation/problem?isFullScreen=true\n",
    "##### This exercise is focused on the use .difference() with sets"
   ]
  },
  {
   "cell_type": "code",
   "execution_count": null,
   "id": "808be27b",
   "metadata": {},
   "outputs": [],
   "source": [
    "######################################################################\n",
    "#                                                                    #\n",
    "# MY CODE:     I want to find the total number of students who have  #\n",
    "#              have subscribed to only English newspapers and to do  #\n",
    "#              this I take an nteger and a set of data and then using  #\n",
    "#              the command .difference() to see the results very quickly.#            \n",
    "#                                                                    #    \n",
    "#####################################################################\n",
    "\n",
    "students_English = set(map(int, input().split()))\n",
    "b = int(input())\n",
    "students_French = set(map(int, input().split()))\n",
    "print(len(students_English.difference(students_French)))"
   ]
  },
  {
   "cell_type": "markdown",
   "id": "4e68379d",
   "metadata": {},
   "source": [
    "### Exercise n° 9 - Set .symmetric_diference() Operation\n",
    "##### Reference:  https://www.hackerrank.com/challenges/py-set-symmetric-difference-operation/problem?isFullScreen=true\n",
    "##### This exercise is focused on the use .symmetric_difference() with sets"
   ]
  },
  {
   "cell_type": "code",
   "execution_count": null,
   "id": "d1fb4857",
   "metadata": {},
   "outputs": [],
   "source": [
    "######################################################################\n",
    "#                                                                    #\n",
    "# MY CODE:     I want to find the total number of students who have  #\n",
    "#              have subscribed either the English or the French      #\n",
    "#              newspaper but not both. I take an nteger and a set of #\n",
    "#              data and then using the command .symmetric_difference() to see# \n",
    "#              the results very quickly.                             #            \n",
    "#                                                                    #    \n",
    "#####################################################################\n",
    "\n",
    "\n",
    "n = int(input())\n",
    "students_English = set(map(int, input().split()))\n",
    "b = int(input())\n",
    "students_French = set(map(int, input().split()))\n",
    "print(len(students_English.symmetric_difference(students_French)))"
   ]
  },
  {
   "cell_type": "markdown",
   "id": "59d3cf60",
   "metadata": {},
   "source": [
    "### Exercise n° 10 - Set Mutations\n",
    "##### Reference: https://www.hackerrank.com/challenges/py-set-mutations/problem?isFullScreen=true\n",
    "##### This exercise is focused on the use of operations to create mutations to a set"
   ]
  },
  {
   "cell_type": "code",
   "execution_count": null,
   "id": "2ea75606",
   "metadata": {},
   "outputs": [],
   "source": [
    "########################################################################\n",
    "#                                                                      #\n",
    "# MY CODE: From a set given by input, with a for loop the set will     #\n",
    "#          mutate thanks to the command that are in the if-else        # \n",
    "#          statement and that are read by input                        #\n",
    "#                                                                      #\n",
    "######################################################################## \n",
    "\n",
    "n = int(input())\n",
    "A = set(map(int, input().split()))\n",
    "N = int(input())\n",
    "for _ in range(N):\n",
    "    operation = input().split()\n",
    "    B = set(map(int, input().split()))\n",
    "    if operation[0] == 'intersection_update':\n",
    "            A.intersection_update(B)\n",
    "    elif operation[0] == 'symmetric_difference_update':\n",
    "        A.symmetric_difference_update(B)\n",
    "    elif operation[0] == 'difference_update':\n",
    "        A.difference_update(B)\n",
    "    elif operation[0] == 'update':\n",
    "        A.update(B)\n",
    "print(sum(A))"
   ]
  },
  {
   "cell_type": "markdown",
   "id": "daf889aa",
   "metadata": {},
   "source": [
    "### Exercise n° 11 - The Captain's Room\n",
    "##### Reference: https://www.hackerrank.com/challenges/py-the-captains-room/problem?isFullScreen=true\n",
    "##### This exercise is focused on the use of all the command that are associated to the sets and mutate it or do thing with them. The task is to find the captain's room that is associated to him with few condition"
   ]
  },
  {
   "cell_type": "code",
   "execution_count": null,
   "id": "9ea13b5d",
   "metadata": {},
   "outputs": [],
   "source": [
    "######################################################################\n",
    "#                                                                    #\n",
    "# MY CODE: Knowing the number of families I can take in input the    #\n",
    "#          room list and do a set so I have unique elements. At this #\n",
    "#          point for each number in the list I remove this number    #\n",
    "#          until I find the captain's room that is calculated with   #\n",
    "#          the command .difference() applicated to the set of room   #\n",
    "#          and with the command .pop(). In this way the set remains  #\n",
    "#          with an only occurence that was the number that do not    #\n",
    "#          repeats on the set--> the captain's room                  #\n",
    "#                                                                    #\n",
    "######################################################################\n",
    "\n",
    "K = int(input())\n",
    "room_lst = input().split()\n",
    "room_st = set(room_lst)\n",
    "for number in list(room_st):\n",
    "    room_lst.remove(number)\n",
    "captain_room = room_st.difference(set(room_lst)).pop()\n",
    "print(captain_room)"
   ]
  },
  {
   "cell_type": "markdown",
   "id": "bab46fa0",
   "metadata": {},
   "source": [
    "### Exercise n° 12 - Check Subset\n",
    "##### Reference: https://www.hackerrank.com/challenges/py-check-subset/problem?isFullScreen=true\n",
    "##### This exercise is focused on finding subset given a set"
   ]
  },
  {
   "cell_type": "code",
   "execution_count": null,
   "id": "f3c52309",
   "metadata": {},
   "outputs": [],
   "source": [
    "######################################################################\n",
    "#                                                                    #\n",
    "# MY CODE: The task of this exercise is to verify if a set is a      #\n",
    "#          subset of a given set, so I thought that if A is a subset #\n",
    "#          of B then A intersected with B is A and I use this        #\n",
    "#          reasoning to say if a set is a subset of a set or not     #\n",
    "#                                                                    #    \n",
    "######################################################################\n",
    "\n",
    "T=int(input())\n",
    "result=[]\n",
    "for i in range(T):\n",
    "    A_Number = int(input())\n",
    "    A = set(map(int, input().split()))\n",
    "    B_Number = int(input())\n",
    "    B = set(map(int, input().split()))\n",
    "    if A.intersection(B) == A:\n",
    "        result.append(True)\n",
    "    else:\n",
    "        result.append(False)\n",
    "for i in result:\n",
    "    print(i)"
   ]
  },
  {
   "cell_type": "markdown",
   "id": "d64b096f",
   "metadata": {},
   "source": [
    "### Exercise n° 13 - Check Strict Superset\n",
    "##### Reference: https://www.hackerrank.com/challenges/py-check-strict-superset/problem?isFullScreen=true\n",
    "##### This exercise is focused on finding strict superset given a set"
   ]
  },
  {
   "cell_type": "code",
   "execution_count": null,
   "id": "56c481e9",
   "metadata": {},
   "outputs": [],
   "source": [
    "######################################################################\n",
    "#                                                                    #\n",
    "# MY CODE: A strict superset has at least one element that does not  # \n",
    "#          exist in its subset, so in this excercise I have to say if#\n",
    "#          a set is a strict superset of a set. To do this I use the #\n",
    "#          command .issubset() that helps to find strict subset      #\n",
    "#                                                                    #    \n",
    "######################################################################\n",
    "\n",
    "A = set(map(int, input().split()))\n",
    "Other_Number = int(input())\n",
    "result = True\n",
    "for i in range(Other_Number):\n",
    "    Other = set(map(int, input().split()))\n",
    "    if not Other.issubset(A):\n",
    "        result=False\n",
    "        break\n",
    "print(result)"
   ]
  }
 ],
 "metadata": {
  "kernelspec": {
   "display_name": "Python 3 (ipykernel)",
   "language": "python",
   "name": "python3"
  },
  "language_info": {
   "codemirror_mode": {
    "name": "ipython",
    "version": 3
   },
   "file_extension": ".py",
   "mimetype": "text/x-python",
   "name": "python",
   "nbconvert_exporter": "python",
   "pygments_lexer": "ipython3",
   "version": "3.11.4"
  }
 },
 "nbformat": 4,
 "nbformat_minor": 5
}
