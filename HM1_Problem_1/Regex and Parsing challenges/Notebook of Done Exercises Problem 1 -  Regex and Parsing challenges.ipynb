{
 "cells": [
  {
   "cell_type": "markdown",
   "id": "33ea9909",
   "metadata": {},
   "source": [
    "## RESOLUTION OF EXERCISES REQUIRED IN PROBLEM 1 \n",
    "### Tenth Section: Regex and Parsing challenges"
   ]
  },
  {
   "cell_type": "markdown",
   "id": "eb651704",
   "metadata": {},
   "source": [
    "### Exercise n° 1 - Detect Floating Point Number \n",
    "##### Reference: https://www.hackerrank.com/challenges/introduction-to-regex/problem?isFullScreen=true\n",
    "##### This excercise is focused on regex and how to use to make conditions and verufy something"
   ]
  },
  {
   "cell_type": "code",
   "execution_count": null,
   "id": "f17154d9",
   "metadata": {},
   "outputs": [],
   "source": [
    "######################################################################                                                                                                                         ######################################################################\n",
    "#                                                                    #\n",
    "# MY CODE: From a given string the code verify that is a floating    #\n",
    "#          point number or not. First of all the number is not float #\n",
    "#          if changing the type from str to float I can obtein an    #\n",
    "#          error then I verify some condition with the class regex   #\n",
    "#          (if in the string the number begin with any simbol such as#\n",
    "#          as +,-,. and if the has at least one decimal)             #\n",
    "#                                                                    #\n",
    "######################################################################\n",
    "\n",
    "import re\n",
    "\n",
    "T = int(input())\n",
    "flag = []\n",
    "\n",
    "for i in range(T):\n",
    "    N = input()\n",
    "\n",
    "    try:\n",
    "        float_value = float(N)\n",
    "    except ValueError:\n",
    "        flag.append(False)\n",
    "        continue\n",
    "\n",
    "    if re.match(r'^[+-]?\\d*\\.\\d+$', N) or re.match(r'^[+-]?\\d+\\.\\d*$', N):\n",
    "        flag.append(True)\n",
    "    else:\n",
    "        flag.append(False)\n",
    "\n",
    "for i in flag:\n",
    "    print(i)"
   ]
  },
  {
   "cell_type": "markdown",
   "id": "c736ea36",
   "metadata": {},
   "source": [
    "### Exercise n° 2 - Re.split()\n",
    "##### Reference: https://www.hackerrank.com/challenges/re-split/problem?isFullScreen=true\n",
    "##### This excercise is focused on learning  how to separate a string at determinate point (regex_pattern)"
   ]
  },
  {
   "cell_type": "code",
   "execution_count": null,
   "id": "55595e80",
   "metadata": {},
   "outputs": [],
   "source": [
    "#######################################################################                                                                                                                        ######################################################################\n",
    "#                                                                     #\n",
    "# MY CODE: In the code I write a regex_pattern that splits my string  #\n",
    "#          when there are \",\" or \".\", then I print the string splitted#                                                            #\n",
    "#######################################################################\n",
    "\n",
    "regex_pattern = r'[,.]'\n",
    "\n",
    "import re\n",
    "print(\"\\n\".join(re.split(regex_pattern, input())))"
   ]
  },
  {
   "cell_type": "markdown",
   "id": "ba56f86d",
   "metadata": {},
   "source": [
    "### Exercise n° 3 - Group(), Groups() & Groupdict()\n",
    "##### Reference: https://www.hackerrank.com/challenges/re-group-groups/problem?isFullScreen=true\n",
    "##### This excercise is focused on learning how to works Group(), Groups() & Groupdict() in the class regex and the task is to find he first occurrence of an alphanumeric character in a string that has consecutive repetitions"
   ]
  },
  {
   "cell_type": "code",
   "execution_count": null,
   "id": "0a0bbdc3",
   "metadata": {},
   "outputs": [],
   "source": [
    "######################################################################                                                                                                                         ######################################################################\n",
    "#                                                                    #\n",
    "# MY CODE: Given in input a string I use the \".search()\" to find     #\n",
    "#          alphanumeric character and to find what occures more than #\n",
    "#          1 time and then I use \".group()\" to find in that group the#\n",
    "#          first occurrence or if I not find it I print -1           #\n",
    "#                                                                    #\n",
    "######################################################################\n",
    "\n",
    "\n",
    "import re\n",
    "\n",
    "m = re.search(r'([a-zA-Z0-9])\\1+', input())\n",
    "print(m.group(1) if m else -1)"
   ]
  },
  {
   "cell_type": "markdown",
   "id": "97d8d7da",
   "metadata": {},
   "source": [
    "### Exercise n° 4 - Re.findall() & Re.finditer()\n",
    "##### Reference: https://www.hackerrank.com/challenges/re-findall-re-finditer/problem?isFullScreen=true\n",
    "##### This excercise is focused on learning re.findall() and re.finditer() and the task is to find all the substring of a string that cointeins 2 or more vowels, these substrings must lie in between 2 consonants and should contain vowels only."
   ]
  },
  {
   "cell_type": "code",
   "execution_count": null,
   "id": "216c4c58",
   "metadata": {},
   "outputs": [],
   "source": [
    "######################################################################                                                                                                                         ######################################################################\n",
    "#                                                                    #\n",
    "# MY CODE: I defined vowels and consonants and using re.findall() I  #\n",
    "#          ask the code to find vowels between 2 consonants using the#\n",
    "#          regex and to print the vowels if they are in or (-1)      #\n",
    "#          I used \"flags=re.I\" that means that I don't make          #\n",
    "#          differences between capital letters or lower letters      #\n",
    "#                                                                    #\n",
    "######################################################################\n",
    "\n",
    "import re\n",
    "\n",
    "vowels = 'aeiou'\n",
    "consonants = 'qwrtypsdfghjklzxcvbnm'\n",
    "match = re.findall(r'(?<=[' + consonants + '])([' + vowels + ']{2,})(?=[' + consonants + '])', input(), flags=re.I)\n",
    "print('\\n'.join(match or ['-1']))"
   ]
  },
  {
   "cell_type": "markdown",
   "id": "29f7a38b",
   "metadata": {},
   "source": [
    "### Exercise n° 5 - Re.start() & Re.end()\n",
    "##### Reference: https://www.hackerrank.com/challenges/re-start-re-end/problem?isFullScreen=true\n",
    "##### This excercise is focused on learning re.start() and re.end() to have start and end point. The task is to find the indices of the start and end of a string in a string"
   ]
  },
  {
   "cell_type": "code",
   "execution_count": null,
   "id": "ddbc0713",
   "metadata": {},
   "outputs": [],
   "source": [
    "#####################################################################                                                                                                                         ######################################################################\n",
    "#                                                                   #\n",
    "# MY CODE: This code searches for occurrences of a substring 'k'    # \n",
    "#          in a string 'S' using Python's 're' module. A look-ahead #\n",
    "#          assertion in the regex pattern ensures overlapping       #\n",
    "#          occurrences of 'k' are captured. For each match found,   #\n",
    "#          the code prints its starting and ending indices. If no   #\n",
    "#          matches are found, it prints '(-1, -1)'.                 #\n",
    "#                                                                   #\n",
    "#####################################################################\n",
    "\n",
    "import re\n",
    "\n",
    "S, k = input(), input()\n",
    "pattern = r'(?='+k+')'\n",
    "matches = list(re.finditer(pattern, S))\n",
    "if matches:\n",
    "    for match in matches:\n",
    "        print((match.start(), match.start() + len(k) - 1))       \n",
    "else:\n",
    "    print('(-1, -1)')"
   ]
  },
  {
   "cell_type": "markdown",
   "id": "4ca52d21",
   "metadata": {},
   "source": [
    "### Exercise n° 6 - Regex Substitution\n",
    "##### Reference: https://www.hackerrank.com/challenges/re-sub-regex-substitution/problem?isFullScreen=true\n",
    "##### This excercise is focused on learning how, with regex, I can modifie a string"
   ]
  },
  {
   "cell_type": "code",
   "execution_count": null,
   "id": "d9d74139",
   "metadata": {},
   "outputs": [],
   "source": [
    "######################################################################                                                                                                                         ######################################################################\n",
    "#                                                                    #\n",
    "# MY CODE: Given a text of N lines. The task is modifie all && and ||#\n",
    "#          into \"and\" and \"or\" so I use re.sub() to modifie && into  #\n",
    "#          \"and\" and || into \"or\"                                    #\n",
    "#                                                                    #\n",
    "######################################################################\n",
    "\n",
    "import re\n",
    "\n",
    "N= int(input())\n",
    "for i in range(N):\n",
    "    S = input()\n",
    "    s = re.sub(\"(?<=\\s)&&(?=\\s)\", \"and\", S)\n",
    "    print(re.sub(\"(?<=\\s)\\|\\|(?=\\s)\", \"or\", s))"
   ]
  },
  {
   "cell_type": "markdown",
   "id": "a4a9072e",
   "metadata": {},
   "source": [
    "### Exercise n° 7 - Validating Roman Numerals\n",
    "##### Reference: https://www.hackerrank.com/challenges/validate-a-roman-number/problem?isFullScreen=true\n",
    "##### This excercise is focused on saying if a string is a roman numeral or not"
   ]
  },
  {
   "cell_type": "code",
   "execution_count": null,
   "id": "c393cd5b",
   "metadata": {},
   "outputs": [],
   "source": [
    "######################################################################                                                                                                                         ######################################################################\n",
    "#                                                                    #\n",
    "# MY CODE: In the code I write a regex_pattern that identifie if a   #\n",
    "#          string is a Roman Number or not because in the regex_patt #\n",
    "#          I write that a Roman Number has to have certain structure #          #\n",
    "#                                                                    #\n",
    "######################################################################\n",
    "\n",
    "import re\n",
    "\n",
    "thousand = 'M{0,3}'\n",
    "hundred = '(C[MD]|D?C{0,3})'\n",
    "ten = '(X[CL]|L?X{0,3})'\n",
    "digit = '(I[VX]|V?I{0,3})'\n",
    "regex_pattern = r\"%s%s%s%s$\" % (thousand, hundred, ten, digit)\n",
    "\n",
    "print(str(bool(re.match(regex_pattern, input()))))"
   ]
  },
  {
   "cell_type": "markdown",
   "id": "84f128a6",
   "metadata": {},
   "source": [
    "### Exercise n° 8 - Validating phone numbers\n",
    "##### Reference: https://www.hackerrank.com/challenges/validating-the-phone-number/problem?isFullScreen=true\n",
    "##### This excercise is focused on validate, using a regex, a phone number"
   ]
  },
  {
   "cell_type": "code",
   "execution_count": null,
   "id": "e98fa465",
   "metadata": {},
   "outputs": [],
   "source": [
    "######################################################################                                                                                                                         ######################################################################\n",
    "#                                                                    #\n",
    "# MY CODE: Given a series of numbers I have to say if this is a real #\n",
    "#          number or not and to do that I find if the number begin   #\n",
    "#          with 7,8 or 9 and if has 10 digits with a regex and I     #\n",
    "#          print YES or NOT if it is valid or not                    #\n",
    "#                                                                    #\n",
    "######################################################################\n",
    "\n",
    "import re\n",
    "\n",
    "N=int(input())\n",
    "for i in range(N):\n",
    "    if re.match(r'[789]\\d{9}$',input()):   \n",
    "        print('YES')  \n",
    "    else:  \n",
    "        print('NO')"
   ]
  },
  {
   "cell_type": "markdown",
   "id": "7524a5fc",
   "metadata": {},
   "source": [
    "### Exercise n° 9 - Validating and Parsing Email Addresses\n",
    "##### Reference: https://www.hackerrank.com/challenges/validating-named-email-addresses/problem?isFullScreen=true\n",
    "##### This excercise is focused on validating email adress"
   ]
  },
  {
   "cell_type": "code",
   "execution_count": null,
   "id": "1b62c64b",
   "metadata": {},
   "outputs": [],
   "source": [
    "######################################################################                                                                                                                         ######################################################################\n",
    "#                                                                    #\n",
    "# MY CODE: Given an email adress in input I validate it. I print the #\n",
    "#          email adress if it is valid but I don't printi it if it is#\n",
    "#          not valid and to do that I use a regex that specify how   #\n",
    "#          has to be the valid email and then I verified if the email#\n",
    "#          adress that I have serching with \"re.search()\" what is in # \n",
    "#          the regex is in my email adresses.                        #\n",
    "#          I use email.utils to print correctly the email adress     #\n",
    "#                                                                    #\n",
    "######################################################################\n",
    "\n",
    "import re\n",
    "import email.utils\n",
    "\n",
    "N = int(input())\n",
    "pattern = r'^[a-z][\\w\\-\\.]+@[a-z]+\\.[a-z]{1,3}$'\n",
    "for i in range(N):\n",
    "    parsed_addr = email.utils.parseaddr(input())\n",
    "    if re.search(pattern, parsed_addr[1]):\n",
    "        print(email.utils.formataddr(parsed_addr))"
   ]
  },
  {
   "cell_type": "markdown",
   "id": "f6427683",
   "metadata": {},
   "source": [
    "### Exercise n° 10 - Hex Color Code\n",
    "##### Reference: https://www.hackerrank.com/challenges/hex-color-code/problem?isFullScreen=true\n",
    "##### This excercise is focused on find color code "
   ]
  },
  {
   "cell_type": "code",
   "execution_count": null,
   "id": "ca1598c5",
   "metadata": {},
   "outputs": [],
   "source": [
    "######################################################################                                                                                                                         ######################################################################\n",
    "#                                                                    #\n",
    "# MY CODE: This code snippet extracts and prints hex color codes     #\n",
    "#           from a series of input lines. It processes 'N' lines of  #\n",
    "#          input, each potentially containing CSS styles. For each   #\n",
    "#           line, it checks if it's not a CSS selector (by avoiding  #\n",
    "#           lines with '{' and ensuring there's more than one word). #\n",
    "#           Using a regex pattern, it identifies valid hex color     #\n",
    "#           codes and prints them.                                   # \n",
    "#                                                                    #\n",
    "######################################################################\n",
    "\n",
    "import re\n",
    "\n",
    "N=int(input())\n",
    "for i in range(N):\n",
    "    s=input()\n",
    "    x=s.split()\n",
    "    if len(x)>1  and  '{' not in x:\n",
    "        x=re.findall(r'#[a-fA-F0-9]{3,6}',s)\n",
    "        [print(i) for i in x]"
   ]
  },
  {
   "cell_type": "markdown",
   "id": "1be18404",
   "metadata": {},
   "source": [
    "### Exercise n° 11 - HTML Parser - Part 1\n",
    "##### Reference: https://www.hackerrank.com/challenges/html-parser-part-1/problem?isFullScreen=true\n",
    "##### This excercise is focused on learning utility of Python's 'HTMLParser' class for structured parsing and extraction of HTML content."
   ]
  },
  {
   "cell_type": "code",
   "execution_count": null,
   "id": "57c53876",
   "metadata": {},
   "outputs": [],
   "source": [
    "######################################################################                                                                                                                         ######################################################################\n",
    "#                                                                    #\n",
    "# MY CODE: The code parses and prints components of HTML code using  # \n",
    "#          Python's built-in 'HTMLParser' class. A custom parser,    #\n",
    "#          'MyHTMLParser', is defined with methods to handle start   #\n",
    "#          tags, end tags, and self-closing tags. For each start or  #\n",
    "#          self-closing tag, the tag name and its attributes are printed.\n",
    "#          For each end tag, only the tag name is printed. After     #\n",
    "#          reading 'N' lines of HTML input, the parser processes     #\n",
    "#          the input and outputs the parsed components.              #\n",
    "#                                                                    #\n",
    "######################################################################\n",
    "\n",
    "from html.parser import HTMLParser\n",
    "\n",
    "class MyHTMLParser(HTMLParser):\n",
    "    def handle_starttag(self, tag, attrs):        \n",
    "        print ('Start :',tag)\n",
    "        for ele in attrs:\n",
    "            print ('->',ele[0],'>',ele[1])\n",
    "    def handle_endtag(self, tag):\n",
    "        print ('End   :',tag)\n",
    "    def handle_startendtag(self, tag, attrs):\n",
    "        print ('Empty :',tag)\n",
    "        for ele in attrs:\n",
    "            print ('->',ele[0],'>',ele[1])\n",
    "N=int(input())\n",
    "parser = MyHTMLParser()\n",
    "parser.feed(''.join([input().strip() for _ in range(N)]))"
   ]
  },
  {
   "cell_type": "markdown",
   "id": "774868df",
   "metadata": {},
   "source": [
    "### Exercise n° 12 - HTML Parser - Part 2\n",
    "##### Reference: https://www.hackerrank.com/challenges/html-parser-part-2/problem?isFullScreen=true\n",
    "##### This excercise is focused on ldemonstrate the capability of Python's 'HTMLParser' for distinguishing and extracting comments and data from HTML content.\n"
   ]
  },
  {
   "cell_type": "code",
   "execution_count": null,
   "id": "f188ab1c",
   "metadata": {},
   "outputs": [],
   "source": [
    "######################################################################                                                                                                                         ######################################################################\n",
    "#                                                                    #\n",
    "# MY CODE: The code uses Python's 'HTMLParser' class to identify and # \n",
    "#          print the comments and data within an HTML code segment.  #\n",
    "#          A custom parser, 'MyHTMLParser', is defined with methods  #\n",
    "#          to handle comments and data. For comments, it distinguishes \n",
    "#          between single-line and multi-line comments based on the  #\n",
    "#          number of newline characters present. For data, it ensures# \n",
    "#          the data is non-empty before printing. After reading      #\n",
    "#          multiple lines of HTML input, the parser processes and    #\n",
    "#          outputs the identified comments and data segments.        #\n",
    "#                                                                    #\n",
    "######################################################################\n",
    "\n",
    "from html.parser import HTMLParser\n",
    "\n",
    "class MyHTMLParser(HTMLParser):\n",
    "    def handle_comment(self, data):\n",
    "        if (len(data.split('\\n')) != 1):\n",
    "            print(\">>> Multi-line Comment\")\n",
    "        else:\n",
    "            print(\">>> Single-line Comment\")\n",
    "        print(data.replace(\"\\r\", \"\\n\"))\n",
    "    def handle_data(self, data):\n",
    "        if data.strip():\n",
    "            print(\">>> Data\")\n",
    "            print(data)\n",
    "  \n",
    "html = \"\"       \n",
    "for i in range(int(input())):\n",
    "    html += input().rstrip()\n",
    "    html += '\\n'\n",
    "    \n",
    "parser = MyHTMLParser()\n",
    "parser.feed(html)\n",
    "parser.close()"
   ]
  },
  {
   "cell_type": "markdown",
   "id": "e571f456",
   "metadata": {},
   "source": [
    "### Exercise n° 13 - Detect HTML Tags, Attributes and Attribute Values\n",
    "##### Reference: https://www.hackerrank.com/challenges/detect-html-tags-attributes-and-attribute-values/problem?isFullScreen=true\n",
    "##### This excercise is focused on illustrate the functionality of Python's 'HTMLParser' in extracting start tags and their associated attributes from HTML content.\n"
   ]
  },
  {
   "cell_type": "code",
   "execution_count": null,
   "id": "3dadf994",
   "metadata": {},
   "outputs": [],
   "source": [
    "############################################################################                                                                                                                         ######################################################################\n",
    "#                                                                          #\n",
    "# MY CODE: This code utilizes Python's 'HTMLParser' class to identify      #  \n",
    "#          and print the start tags and their attributes from an           #\n",
    "#          HTML segment. A custom parser, 'MyHTMLParser', is defined       #\n",
    "#          with a method to handle start tags. For each start tag,         #\n",
    "#          the tag name is printed followed by its attributes              #\n",
    "#          (if any) in the format '-> attribute_name > attribute_value'.   #\n",
    "#          After reading 'N' lines of HTML input, the parser processes     #\n",
    "#          the input and outputs the identified start tags and attributes. #\n",
    "#                                                                          #\n",
    "############################################################################\n",
    "\n",
    "from html.parser import HTMLParser\n",
    "\n",
    "N=int(input())\n",
    "class MyHTMLParser(HTMLParser):\n",
    "    def handle_starttag(self, tag, attrs):\n",
    "        print(tag)\n",
    "        [print('-> {} > {}'.format(*attr)) for attr in attrs]\n",
    "html = '\\n'.join([input() for i in range(N)])\n",
    "parser = MyHTMLParser()\n",
    "parser.feed(html)\n",
    "parser.close()"
   ]
  },
  {
   "cell_type": "markdown",
   "id": "4548a1cf",
   "metadata": {},
   "source": [
    "### Exercise n° 14 - Validating UID\n",
    "##### Reference: https://www.hackerrank.com/challenges/validating-uid/problem?isFullScreen=true\n",
    "##### This excercise is focused on validating UID and say if a UID is Valid or Not"
   ]
  },
  {
   "cell_type": "code",
   "execution_count": null,
   "id": "c11653ca",
   "metadata": {},
   "outputs": [],
   "source": [
    "#####################################################################                                                                                                                         ######################################################################\n",
    "#                                                                   #\n",
    "# MY CODE: The code validates UID based on multiple regex patterns.The#\n",
    "#          UID must meet several criteria: No repeating characters, #\n",
    "#          at least two uppercase letters, at least three digits,   #\n",
    "#          exactly ten alphanumeric characters. For each UID, the   #\n",
    "#          code checks these criteria using defined regex patterns. #\n",
    "#          If a UID meets all the criteria, it is deemed 'Valid',   #\n",
    "#          otherwise 'Invalid'.                                     #\n",
    "#                                                                   #\n",
    "#####################################################################\n",
    "\n",
    "import re\n",
    "\n",
    "N = int(input())\n",
    "no_repeats = r'(?!.*(.).*\\1)' \n",
    "two_plus_uppercase = r'(?=(?:.*[A-Z]+){2,})'\n",
    "three_plus_digits = r'(?=(?:.*\\d){3,})'\n",
    "ten_alphanumeric = r'[\\w]{10}'\n",
    "filters = no_repeats, two_plus_uppercase, three_plus_digits, ten_alphanumeric\n",
    "for i in range(N):\n",
    "    uid = input()\n",
    "    is_valid = all(re.match(f, uid) for f in filters)\n",
    "    if is_valid:\n",
    "        print('Valid')\n",
    "    else:\n",
    "        print('Invalid')"
   ]
  },
  {
   "cell_type": "markdown",
   "id": "b2bf371d",
   "metadata": {},
   "source": [
    "### Exercise n° 15 - Validating Credit Card Numbers\n",
    "##### Reference: https://www.hackerrank.com/challenges/validating-credit-card-number/problem?isFullScreen=true\n",
    "##### This excercise is focused on verifie if a credit card is valid or not"
   ]
  },
  {
   "cell_type": "code",
   "execution_count": null,
   "id": "a0c30014",
   "metadata": {},
   "outputs": [],
   "source": [
    "#####################################################################                                                                                                                         ######################################################################\n",
    "#                                                                   #\n",
    "# MY CODE: The code validates credit card numbers based on multiple # \n",
    "#          regex patterns.This must meet several criteria. For each #\n",
    "#          credit card number the code checks these criteria using  #\n",
    "#          defined regex patterns, so If a credit card meets all    #\n",
    "#          the criteria, the code prints 'Valid', otherwise         #\n",
    "#          'Invalid'.                                               #\n",
    "#                                                                   #\n",
    "#####################################################################\n",
    "import re\n",
    "\n",
    "N = int(input())\n",
    "structure_check = r'[456]\\d{3}(-?\\d{4}){3}$'\n",
    "no_four_repeats = r'((\\d)-?(?!(-?\\2){3})){16}'\n",
    "filters = structure_check, no_four_repeats\n",
    "for i in range(N):\n",
    "    cc_num = input()\n",
    "    is_valid = all(re.match(f, cc_num) for f in filters)\n",
    "    if is_valid:\n",
    "        print('Valid')\n",
    "    else:\n",
    "        print('Invalid')"
   ]
  },
  {
   "cell_type": "markdown",
   "id": "7c08100e",
   "metadata": {},
   "source": [
    "### Exercise n° 16 - Validating Postal Codes\n",
    "##### Reference: https://www.hackerrank.com/challenges/validating-postalcode/problem?isFullScreen=true\n",
    "##### This excercise is focused on validating Postal Codes and print if it is valid or not upon some criteria"
   ]
  },
  {
   "cell_type": "code",
   "execution_count": null,
   "id": "ab1fcbdd",
   "metadata": {},
   "outputs": [],
   "source": [
    "#####################################################################                                                                                                                         ######################################################################\n",
    "#                                                                   #\n",
    "# MY CODE: The code validates Postal Codes based on multiple        # \n",
    "#          regex patterns.This must meet 2 criteria: if the number  #\n",
    "#          are in range and have two equal digits that have just a  #\n",
    "#          single digit between them. . For each                    #\n",
    "#          Postal Codes the code checks these criteria using        #\n",
    "#          defined regex patterns, so If a Postal Codes meets all   #\n",
    "#          the criteria, the code prints 'True', otherwise          #\n",
    "#          'False'.                                                 #\n",
    "#                                                                   #\n",
    "#####################################################################\n",
    "\n",
    "import re\n",
    "\n",
    "regex_integer_in_range = r\"^[1-9][\\d]{5}$\"\n",
    "regex_alternating_repetitive_digit_pair = r\"(\\d)(?=\\d\\1)\"\n",
    "\n",
    "####################\n",
    "#                  #\n",
    "#   CODE PROVIDED  #\n",
    "#   BY HACKERANK   #\n",
    "#                  #\n",
    "####################\n",
    "\n",
    "P = input()\n",
    "\n",
    "print (bool(re.match(regex_integer_in_range, P)) \n",
    "and len(re.findall(regex_alternating_repetitive_digit_pair, P)) < 2)"
   ]
  },
  {
   "cell_type": "markdown",
   "id": "23662261",
   "metadata": {},
   "source": [
    "### Exercise n° 17 - Matrix Script\n",
    "##### Reference: https://www.hackerrank.com/challenges/matrix-script/problem?isFullScreen=true\n",
    "##### This excercise is focused on demonstrate the utility of matrix transposition and regex in extracting and formatting encoded information from a matrix.\n"
   ]
  },
  {
   "cell_type": "code",
   "execution_count": null,
   "id": "1d0865e5",
   "metadata": {},
   "outputs": [],
   "source": [
    "####################\n",
    "#                  #\n",
    "#   CODE PROVIDED  #\n",
    "#   BY HACKERANK   #\n",
    "#                  #\n",
    "####################\n",
    "\n",
    "#!/bin/python3\n",
    "\n",
    "import math\n",
    "import os\n",
    "import random\n",
    "import re\n",
    "import sys\n",
    "\n",
    "first_multiple_input = input().rstrip().split()\n",
    "n = int(first_multiple_input[0])\n",
    "m = int(first_multiple_input[1])\n",
    "matrix = []\n",
    "for _ in range(n):\n",
    "    matrix_item = input()\n",
    "    matrix.append(matrix_item)\n",
    "\n",
    "######################################################################                                                                                                                         ######################################################################\n",
    "#                                                                    #\n",
    "# MY CODE: This code decodes a message from a transposed matrix of   #\n",
    "#          characters. The matrix is transposed, changing its rows   #\n",
    "#          into columns and characters from the transposed matrix are# \n",
    "#          concatenated sequentially to form the continuous string,  #\n",
    "#          'sample'. Using regex, any sequence of non-word characters# \n",
    "#          (excluding digits) between word characters in 'sample' is #\n",
    "#          replaced with a space, revealing the hidden message.      #\n",
    "#                                                                    #\n",
    "######################################################################\n",
    "\n",
    "matrix = list(zip(*matrix))\n",
    "sample = str()\n",
    "for words in matrix:\n",
    "    for char in words:\n",
    "        sample += char\n",
    "print(re.sub(r'(?<=\\w)([^\\w\\d]+)(?=\\w)', ' ', sample))"
   ]
  }
 ],
 "metadata": {
  "kernelspec": {
   "display_name": "Python 3 (ipykernel)",
   "language": "python",
   "name": "python3"
  },
  "language_info": {
   "codemirror_mode": {
    "name": "ipython",
    "version": 3
   },
   "file_extension": ".py",
   "mimetype": "text/x-python",
   "name": "python",
   "nbconvert_exporter": "python",
   "pygments_lexer": "ipython3",
   "version": "3.11.4"
  }
 },
 "nbformat": 4,
 "nbformat_minor": 5
}
