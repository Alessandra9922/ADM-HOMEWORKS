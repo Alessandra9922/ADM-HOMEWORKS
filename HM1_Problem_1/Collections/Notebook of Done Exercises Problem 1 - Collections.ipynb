{
 "cells": [
  {
   "cell_type": "markdown",
   "id": "c66a176c",
   "metadata": {},
   "source": [
    "## RESOLUTION OF EXERCISES REQUIRED IN PROBLEM 1 \n",
    "### Fifth Section: Collections"
   ]
  },
  {
   "cell_type": "markdown",
   "id": "4880c32c",
   "metadata": {},
   "source": [
    "### Exercise n° 1 - collections.Counter()\n",
    "##### Reference: https://www.hackerrank.com/challenges/collections-counter?isFullScreen=true\n",
    "##### This exercise is focused on learn the use of .Counter()"
   ]
  },
  {
   "cell_type": "code",
   "execution_count": null,
   "id": "738724de",
   "metadata": {},
   "outputs": [],
   "source": [
    "######################################################################\n",
    "#                                                                    #\n",
    "# MY CODE: The aim of the exercise is to learn the use of .Counter() #\n",
    "#          so for this exercise after getting in input the variables #\n",
    "#          I use the .Counter() to get in the list the quantity of   #\n",
    "#          each shoes, then with a for loop I can delete a pair of   #                                                      \n",
    "#          shoes from the Counter() if someone was requiring and     #\n",
    "#          then sum the total of the shopper gain, this is what I want#                    \n",
    "#                                                                    #    \n",
    "######################################################################\n",
    "\n",
    "from collections import Counter\n",
    "X = int(input())\n",
    "size_shoes = Counter(map(int, input().split()))\n",
    "N = int(input())\n",
    "total = 0\n",
    "for i in range (N):\n",
    "    size, cost = map(int, input().split())\n",
    "    if size_shoes[size] :\n",
    "        size_shoes[size] -= 1\n",
    "        total += cost\n",
    "print(total)"
   ]
  },
  {
   "cell_type": "markdown",
   "id": "05d1a30e",
   "metadata": {},
   "source": [
    "### Exercise n° 2 - DefaultDict Tutorial\n",
    "##### Reference: https://www.hackerrank.com/challenges/defaultdict-tutorial/problem?isFullScreen=true\n",
    "##### This exercise is focused on learning DefaultDict()"
   ]
  },
  {
   "cell_type": "code",
   "execution_count": null,
   "id": "cd25665b",
   "metadata": {},
   "outputs": [],
   "source": [
    "#######################################################################\n",
    "#                                                                     #\n",
    "# MY CODE:  This code creates an indexed record of items from list 'A'#\n",
    "#           using a defaultdict. The primary aim is to efficiently    #\n",
    "#           query the positions of items in the list. The code first  #\n",
    "#          initializes a defaultdict, designed to store lists as      #\n",
    "#           values. It then reads 'n' items for list 'A' and stores   #\n",
    "#           each item's position(s) as a list in the dictionary.      #\n",
    "#           After recording the positions, the code processes 'm'     #\n",
    "#           queries: for each queried item, if the item exists in list#\n",
    "#           'A', it prints all its indices. If the item doesn't exist,# \n",
    "#           it prints '-1'.                                           #\n",
    "#                                                                     #    \n",
    "#######################################################################\n",
    "\n",
    "from collections import defaultdict\n",
    "d = defaultdict(list)\n",
    "n, m = map(int,input().split())\n",
    "for i in range(1,n+1):\n",
    "    A = input()\n",
    "    d[A].append(str(i))\n",
    "for j in range (m):\n",
    "    B = input()\n",
    "    if B in d: \n",
    "        print(' '.join(d[B]))\n",
    "    else: \n",
    "        print(-1)\n"
   ]
  },
  {
   "cell_type": "markdown",
   "id": "d03b8eba",
   "metadata": {},
   "source": [
    "### Exercise n° 3 - Collections.nametupled()\n",
    "##### Reference: https://www.hackerrank.com/challenges/py-collections-namedtuple/problem?isFullScreen=true\n",
    "##### This exercise is focused on learning the use of collections.namedtuple()"
   ]
  },
  {
   "cell_type": "code",
   "execution_count": null,
   "id": "a5f320c8",
   "metadata": {},
   "outputs": [],
   "source": [
    "########################################################################\n",
    "#                                                                      #\n",
    "# MY CODE: I have to calculate the average marks of a group of         #\n",
    "#           students using the 'namedtuple' data structure from the    #\n",
    "#           'collections' module. I start by reading the number of     #\n",
    "#           students, 'N', a namedtuple 'Students' is dynamically      #\n",
    "#           created based on the input fields (e.g., ID, NAME, MARKS). #\n",
    "#           With a for loop I iterate through each student's data:     #\n",
    "#           It populates the 'Students' namedtuple with the student's  # \n",
    "#           information. The student's marks are extracted using the   #\n",
    "#           attribute access (Student_Table.MARKS) and added to the    #\n",
    "#           'Total_Marks' counter, so the average marks of all students#\n",
    "#           is calculated and printed with a precision of two decimal  #\n",
    "#           places.                                                    #\n",
    "#                                                                      #    \n",
    "########################################################################\n",
    "\n",
    "from collections import namedtuple\n",
    "\n",
    "N=int(input())\n",
    "Students = namedtuple('Students',input().split())\n",
    "Total_Marks=0\n",
    "for i in range(N):\n",
    "    Student_Table = Students(*input().split())\n",
    "    Total_Marks+=int(Student_Table.MARKS)\n",
    "print(\"{:.2f}\".format(Total_Marks/N))\n"
   ]
  },
  {
   "cell_type": "markdown",
   "id": "0aee572e",
   "metadata": {},
   "source": [
    "### Exercise n° 4 - Collections.OrderedDict()\n",
    "##### Reference: \n",
    "##### This exercise is focused on learning the use of Collections.OrdereDict()"
   ]
  },
  {
   "cell_type": "code",
   "execution_count": null,
   "id": "065861a0",
   "metadata": {},
   "outputs": [],
   "source": [
    "#######################################################################\n",
    "#                                                                     #\n",
    "# MY CODE: In the exercise I have to display the total price for each # \n",
    "#          unique item sold, using the 'OrderedDict' data structure   #\n",
    "#          from the 'collections' module. I start by reading the      #\n",
    "#          number of transactions, 'N'. I initialized an OrderedDict, #\n",
    "#          'ordered_item', to maintain the order of item entries.     #\n",
    "#          For each transaction:                                      #\n",
    "#          The item name and its price are parsed from the input.     #\n",
    "#          If the item already exists in 'ordered_item', its price is #\n",
    "#          updated.                                                   #\n",
    "#          If it's a new item, it's added to 'ordered_item' with its  #\n",
    "#          price.                                                     #\n",
    "#          Once all transactions are processed, the program prints    #\n",
    "#          each unique item and its total price.                      #\n",
    "#                                                                     #    \n",
    "#######################################################################\n",
    "\n",
    "from collections import OrderedDict\n",
    "N=int(input())\n",
    "ordered_item = OrderedDict()\n",
    "net_price=0\n",
    "for i in range(N):\n",
    "    item=input().split()\n",
    "    item_price = int(item[-1])\n",
    "    item_name = \" \".join(item[:-1])\n",
    "    if(ordered_item.get(item_name)):\n",
    "        ordered_item[item_name] += item_price\n",
    "    else:\n",
    "        ordered_item[item_name] = item_price\n",
    "for i in ordered_item.keys():\n",
    "    print(i, ordered_item[i])"
   ]
  },
  {
   "cell_type": "markdown",
   "id": "8f43538d",
   "metadata": {},
   "source": [
    "### Exercise n° 5 - Word Order\n",
    "##### Reference: https://www.hackerrank.com/challenges/word-order/problem?isFullScreen=true\n",
    "##### This exercise is focused on applying the set of information that I learn before"
   ]
  },
  {
   "cell_type": "code",
   "execution_count": null,
   "id": "0659f6c6",
   "metadata": {},
   "outputs": [],
   "source": [
    "######################################################################\n",
    "#                                                                    #\n",
    "# MY CODE: In the exercise I have to count the occurrences of        #\n",
    "#           distinct words using the 'OrderedDict' from the          #\n",
    "#           'collections' module. I read 'n' words from the input.   #\n",
    "#           Each word's occurrence is tallied in the 'ordered_words' #\n",
    "#           dictionary. Finally, I print the number of distinct words# \n",
    "#           and the occurrences of each word in the order they were  #\n",
    "#           first encountered.                                       #\n",
    "#                                                                    #    \n",
    "######################################################################\n",
    "\n",
    "from collections import OrderedDict\n",
    "n=int(input())\n",
    "ordered_words=OrderedDict()\n",
    "for i in range(n):\n",
    "    word=input()\n",
    "    ordered_words[word] = ordered_words.get(word, 0) + 1\n",
    "print(len(ordered_words))\n",
    "for word in ordered_words.keys():\n",
    "    print(ordered_words[word], end=' ')\n",
    "    "
   ]
  },
  {
   "cell_type": "markdown",
   "id": "17c2a737",
   "metadata": {},
   "source": [
    "### Exercise n° 6 - Collections.deque()\n",
    "##### Reference: https://www.hackerrank.com/challenges/py-collections-deque/problem?isFullScreen=true\n",
    "##### This exercise is focused on learning collection.deque()"
   ]
  },
  {
   "cell_type": "code",
   "execution_count": null,
   "id": "eb846f39",
   "metadata": {},
   "outputs": [],
   "source": [
    "######################################################################\n",
    "#                                                                    #\n",
    "# MY CODE: This code simulates basic deque operations using Python's # \n",
    "#          'collections' module. Starting with an empty deque, I read#\n",
    "#          and execute a series of 'N' commands (like 'pop', 'append'# \n",
    "#          etc.). After processing all commands, I print the final   #\n",
    "#          state of the deque.                                       # \n",
    "#                                                                    #    \n",
    "######################################################################\n",
    "\n",
    "from collections import deque\n",
    "N = int(input())\n",
    "d=deque()\n",
    "for _ in range(N):\n",
    "    operation = input().split()\n",
    "    if operation[0] == 'pop':\n",
    "        d.pop()\n",
    "    elif operation[0] == 'popleft':\n",
    "        d.popleft()\n",
    "    elif operation[0] == 'append':\n",
    "        d.append((operation[1]))\n",
    "    elif operation[0] == 'appendleft':\n",
    "        d.appendleft((operation[1]))\n",
    "for i in d:\n",
    "    print(i, end=' ')\n",
    "    "
   ]
  },
  {
   "cell_type": "markdown",
   "id": "03f1c521",
   "metadata": {},
   "source": [
    "### Exercise n° 7 - Company Logo\n",
    "##### Reference: https://www.hackerrank.com/challenges/most-commons?isFullScreen=true\n",
    "##### This exercise is focused on applying the set of information that I learn before"
   ]
  },
  {
   "cell_type": "code",
   "execution_count": null,
   "id": "f6694080",
   "metadata": {},
   "outputs": [],
   "source": [
    "####################\n",
    "#                  #\n",
    "#   CODE PROVIDED  #\n",
    "#   BY HACKERANK   #\n",
    "#                  #\n",
    "####################\n",
    "\n",
    "#!/bin/python3\n",
    "\n",
    "import math\n",
    "import os\n",
    "import random\n",
    "import re\n",
    "import sys\n",
    "\n",
    "from collections import Counter\n",
    "\n",
    "\n",
    "\n",
    "if __name__ == '__main__':\n",
    "    s = input()\n",
    "    \n",
    "######################################################################\n",
    "#                                                                    #\n",
    "# MY CODE: I sort the string 's' and then I count the frequency of   #\n",
    "#           each character using Python's 'Counter' from the         #\n",
    "#           'collections' module. After tallying the frequencies,    #\n",
    "#           the code prints the three most common characters along   #\n",
    "#           with their respective counts.                            #\n",
    "#                                                                    #    \n",
    "######################################################################\n",
    "    \n",
    "    \n",
    "    s = sorted(s)\n",
    "    frequency = Counter(list(s))\n",
    "    for k, v in frequency.most_common(3):\n",
    "        print(k, v)\n"
   ]
  },
  {
   "cell_type": "markdown",
   "id": "4a8aeee6",
   "metadata": {},
   "source": [
    "### Exercise n° 8 - Pilling Up!\n",
    "##### Reference: https://www.hackerrank.com/challenges/piling-up/problem?isFullScreen=true\n",
    "##### This exercise is focused on applying the set of information that I learn before"
   ]
  },
  {
   "cell_type": "code",
   "execution_count": null,
   "id": "90871575",
   "metadata": {},
   "outputs": [],
   "source": [
    "########################################################################\n",
    "#                                                                      #\n",
    "# MY CODE: In this code I determine if a sequence of cubes can be      #\n",
    "#          stacked in decreasing order of size, either from the left   #\n",
    "#          or the right end of the queue. For each test case:          #\n",
    "#          I read a queue of cube sizes.                               #\n",
    "#          Then I check if the largest cube can be taken either from   #\n",
    "#          the right end or the left end of the queue.                 #\n",
    "#          If not, I print 'No' and breaks.                            #\n",
    "#          If all cubes can be taken in decreasing order, I print 'Yes'#\n",
    "#                                                                      #    \n",
    "########################################################################\n",
    "\n",
    "from collections import deque\n",
    "\n",
    "for _ in range(int(input())):\n",
    "    _, queue = input(), deque(map(int, input().split()))\n",
    "    for cube in reversed(sorted(queue)):\n",
    "        if queue[-1] == cube: \n",
    "            queue.pop()\n",
    "        elif queue[0] == cube: \n",
    "            queue.popleft()\n",
    "        else:\n",
    "             print('No')\n",
    "             break\n",
    "    else:\n",
    "         print('Yes')\n"
   ]
  }
 ],
 "metadata": {
  "kernelspec": {
   "display_name": "Python 3 (ipykernel)",
   "language": "python",
   "name": "python3"
  },
  "language_info": {
   "codemirror_mode": {
    "name": "ipython",
    "version": 3
   },
   "file_extension": ".py",
   "mimetype": "text/x-python",
   "name": "python",
   "nbconvert_exporter": "python",
   "pygments_lexer": "ipython3",
   "version": "3.11.4"
  }
 },
 "nbformat": 4,
 "nbformat_minor": 5
}
