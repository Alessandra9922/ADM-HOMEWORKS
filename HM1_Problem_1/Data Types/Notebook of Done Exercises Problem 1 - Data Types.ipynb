{
 "cells": [
  {
   "cell_type": "markdown",
   "id": "37022d25",
   "metadata": {},
   "source": [
    "## RESOLUTION OF EXERCISES REQUIRED IN PROBLEM 1 \n",
    "### Second Section: Data Types"
   ]
  },
  {
   "cell_type": "markdown",
   "id": "7afa2bd0",
   "metadata": {},
   "source": [
    "### Exercise n° 1 - List Comprehensions\n",
    "##### Reference: https://www.hackerrank.com/challenges/list-comprehensions?isFullScreen=true\n",
    "##### This exercise is focused on the use of list comprehension. The task is to print a list of all possible coordinates of a cube"
   ]
  },
  {
   "cell_type": "code",
   "execution_count": null,
   "id": "0272b23b",
   "metadata": {},
   "outputs": [],
   "source": [
    "####################\n",
    "#                  #\n",
    "#   CODE PROVIDED  #\n",
    "#   BY HACKERANK   #\n",
    "#                  #\n",
    "####################\n",
    "\n",
    "if __name__ == '__main__':\n",
    "    x = int(input())\n",
    "    y = int(input())\n",
    "    z = int(input())\n",
    "    n = int(input())\n",
    "\n",
    "######################################################################\n",
    "#                                                                    #\n",
    "# MY CODE:with a single line code I printed a list in wich each      #\n",
    "#         component is a list with a for loop that give the range    #\n",
    "#         in wich each variable is contained and then I put in the   #\n",
    "#         important condition with an if                             #\n",
    "#                                                                    #    \n",
    "######################################################################\n",
    "    \n",
    "    print([[i,j,k] for i in range(x+1) for j in range(y+1) for k in range(z+1) if ((i+j+k) != n)])"
   ]
  },
  {
   "cell_type": "markdown",
   "id": "05d8727a",
   "metadata": {},
   "source": [
    "### Exercise n° 2 - Find the Runner-Up Score!\n",
    "##### Reference: https://www.hackerrank.com/challenges/find-second-maximum-number-in-a-list/problem?isFullScreen=true\n",
    "##### This exercise is focused on find the runner-up score (the second greatest result)"
   ]
  },
  {
   "cell_type": "code",
   "execution_count": null,
   "id": "8e365de1",
   "metadata": {},
   "outputs": [],
   "source": [
    "####################\n",
    "#                  #\n",
    "#   CODE PROVIDED  #\n",
    "#   BY HACKERANK   #\n",
    "#                  #\n",
    "####################\n",
    "\n",
    "if __name__ == '__main__':\n",
    "    n = int(input())\n",
    "    arr = map(int, input().split())\n",
    "    \n",
    "#######################################################################\n",
    "#                                                                     #\n",
    "# MY CODE: Giving the arr in input, I sort it the last position has   #\n",
    "#          the max score, so the second last has what we are finding, #\n",
    "#          but there is condition to verify: if there is two occurence#\n",
    "#          of the max score because in this case the second max is not#\n",
    "#          at position second last but still \"back\". After controlling#\n",
    "#          it with a for loop the output is the second max score      #\n",
    "#                                                                     #    \n",
    "#######################################################################    \n",
    "    \n",
    "    st=sorted(arr)\n",
    "    for i in range(2,n+1):\n",
    "        if st[n-i] != st[-1]:\n",
    "            print(st[n-i])\n",
    "            break"
   ]
  },
  {
   "cell_type": "markdown",
   "id": "67d12d49",
   "metadata": {},
   "source": [
    "### Exercise n° 3 - Nested Lists\n",
    "##### Reference: https://www.hackerrank.com/challenges/nested-list/problem?isFullScreen=true\n",
    "##### This exercise is focused on find the student(s) having the second lowest grade and to print them ordered in alphabetically order"
   ]
  },
  {
   "cell_type": "code",
   "execution_count": null,
   "id": "6f9b5236",
   "metadata": {},
   "outputs": [],
   "source": [
    "####################\n",
    "#                  #\n",
    "#   CODE PROVIDED  #\n",
    "#   BY HACKERANK   #\n",
    "#                  #\n",
    "####################\n",
    "\n",
    "if __name__ == '__main__':\n",
    "    for _ in range(int(input())):\n",
    "        name = input()\n",
    "        score = float(input())\n",
    "        \n",
    "#######################################################################\n",
    "#                                                                     #\n",
    "# MY CODE: Giving the input, for each student, I store name and score #\n",
    "#          of each student in the list, lt. I sort the lt list in     #\n",
    "#          descending order based on scores (with the key lambda).    #\n",
    "#            Then finds the second-lowest score and all students who  #  \n",
    "#          have that score using for loop to control the list lt and  # \n",
    "#          append these names in a new list ts that at the end gives  #\n",
    "#          me the result.                                             #\n",
    "#                                                                     #    \n",
    "####################################################################### \n",
    "        \n",
    "    lt=[]\n",
    "    for _ in range(int(input())):\n",
    "        name = input()\n",
    "        score = float(input())\n",
    "        lt.append([name,score])\n",
    "    lt.sort(reverse=True,key=lambda lt:lt[1])\n",
    "    for i in range(2,len(lt)+1):\n",
    "        if lt[len(lt)-i][1] != lt[-1][1]:\n",
    "            ts=[lt[len(lt)-i][0]]\n",
    "            for j in range(len(lt)-i-1,-1,-1):\n",
    "                if lt[len(lt)-i][1]==lt[j][1]:\n",
    "                    ts.append(lt[j][0])\n",
    "                    ts.sort()\n",
    "            break\n",
    "    for k in range(len(ts)):\n",
    "        print(ts[k])"
   ]
  },
  {
   "cell_type": "markdown",
   "id": "95ab1425",
   "metadata": {},
   "source": [
    "### Exercise n° 4 - Finding the percentage\n",
    "##### Reference: https://www.hackerrank.com/challenges/finding-the-percentage/problem?isFullScreen=true\n",
    "##### This exercise is focused on reading in a dictionary containing key/value pairs of name for a list of students and printing the average of the marks array for the student name provided, showing 2 places after the decimal."
   ]
  },
  {
   "cell_type": "code",
   "execution_count": null,
   "id": "60a3c894",
   "metadata": {},
   "outputs": [],
   "source": [
    "####################\n",
    "#                  #\n",
    "#   CODE PROVIDED  #\n",
    "#   BY HACKERANK   #\n",
    "#                  #\n",
    "####################\n",
    "\n",
    "if __name__ == '__main__':\n",
    "    n = int(input())\n",
    "    student_marks = {}\n",
    "    for _ in range(n):\n",
    "        name, *line = input().split()\n",
    "        scores = list(map(float, line))\n",
    "        student_marks[name] = scores\n",
    "    query_name = input()\n",
    "    \n",
    "########################################################################\n",
    "#                                                                      #\n",
    "# MY CODE: with a single line code I printed the average with 2 places #\n",
    "#          after decuìimal using the \"{:.f}\".format()\" where in the    # \n",
    "#          first parenthesys I write the number of digits after decimal#\n",
    "#          in the second ones instead I write directly the formula of  #  \n",
    "#          average that I am finding                                   # \n",
    "#                                                                      #    \n",
    "######################################################################## \n",
    "    \n",
    "    print(\"{:.2f}\".format(sum(student_marks[query_name])/len(scores)))"
   ]
  },
  {
   "cell_type": "markdown",
   "id": "9eaddb77",
   "metadata": {},
   "source": [
    "### Exercise n° 5 - Lists\n",
    "##### Reference: https://www.hackerrank.com/challenges/python-lists/problem?isFullScreen=true\n",
    "##### This exercise is focused on learn some of the commands used for a list sucj as \"insert\", \"remove\", \"pop\", \"append\". \"sort\", \"reverse\", \"print\""
   ]
  },
  {
   "cell_type": "code",
   "execution_count": null,
   "id": "cf4c4859",
   "metadata": {},
   "outputs": [],
   "source": [
    "####################\n",
    "#                  #\n",
    "#   CODE PROVIDED  #\n",
    "#   BY HACKERANK   #\n",
    "#                  #\n",
    "####################\n",
    "\n",
    "if __name__ == '__main__':\n",
    "    N = int(input())\n",
    "    \n",
    "########################################################################\n",
    "#                                                                      #\n",
    "# MY CODE: I creat an empty list (l) and then with a for loop that do  #\n",
    "#          each command that follow                                    # \n",
    "#                                                                      #    \n",
    "######################################################################## \n",
    "\n",
    "    l = []\n",
    "    for i in range(N):\n",
    "        s = list(input().split())\n",
    "        if s[0]=='insert':\n",
    "            l.insert(int(s[1]),int(s[2]))\n",
    "        if s[0]=='remove':\n",
    "            l.remove(int(s[1]))\n",
    "        if s[0]=='append':\n",
    "            l.append(int(s[1]))\n",
    "        if s[0]=='sort':\n",
    "            l.sort()\n",
    "        if s[0]=='pop':\n",
    "            l.pop()\n",
    "        if s[0]=='reverse':\n",
    "            l.reverse()     \n",
    "        if s[0]=='print':\n",
    "            print(l)"
   ]
  },
  {
   "cell_type": "markdown",
   "id": "87dfecb7",
   "metadata": {},
   "source": [
    "### Exercise n° 6 - Tuple\n",
    "##### Reference: https://www.hackerrank.com/challenges/python-tuples/problem?isFullScreen=true\n",
    "##### This exercise is focused on tuples and hash() command"
   ]
  },
  {
   "cell_type": "code",
   "execution_count": null,
   "id": "4ed18bee",
   "metadata": {},
   "outputs": [],
   "source": [
    "\n",
    "#########################################################################\n",
    "#                                                                       #\n",
    "# MY CODE: I take a integer, n, in input that is the number of element  # \n",
    "#          of a tuple, I take in input a n space-separated integers that# \n",
    "#          create a tuple and then I print the hash of the tuple        #\n",
    "#                                                                      #    \n",
    "######################################################################## \n",
    "\n",
    "n = int(input())\n",
    "integer_list = map(int, input().split())\n",
    "print(hash(tuple(integer_list)))"
   ]
  }
 ],
 "metadata": {
  "kernelspec": {
   "display_name": "Python 3 (ipykernel)",
   "language": "python",
   "name": "python3"
  },
  "language_info": {
   "codemirror_mode": {
    "name": "ipython",
    "version": 3
   },
   "file_extension": ".py",
   "mimetype": "text/x-python",
   "name": "python",
   "nbconvert_exporter": "python",
   "pygments_lexer": "ipython3",
   "version": "3.11.4"
  }
 },
 "nbformat": 4,
 "nbformat_minor": 5
}
