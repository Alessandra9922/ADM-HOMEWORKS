{
 "cells": [
  {
   "cell_type": "markdown",
   "id": "3432dd4d",
   "metadata": {},
   "source": [
    "## RESOLUTION OF EXERCISES REQUIRED IN PROBLEM 1 \n",
    "### First Section: Introduction"
   ]
  },
  {
   "cell_type": "markdown",
   "id": "0f3c6343",
   "metadata": {},
   "source": [
    "### Exercise n° 1 - Say \"Hello, World!\" With Python\n",
    "##### Reference: https://www.hackerrank.com/challenges/py-hello-world/problem?isFullScreen=true\n",
    "##### This exercise want you to print \"Hello, World!\""
   ]
  },
  {
   "cell_type": "code",
   "execution_count": null,
   "id": "dfd31726",
   "metadata": {},
   "outputs": [],
   "source": [
    "print(\"Hello, World!\")"
   ]
  },
  {
   "cell_type": "markdown",
   "id": "da5d7d04",
   "metadata": {},
   "source": [
    "### Exercise n° 2 - Python If-Else\n",
    "##### Reference: https://www.hackerrank.com/challenges/py-if-else/problem?isFullScreen=true\n",
    "##### This exercise is focused on the use of If-Else Statement, so above some conditions you will print different thing"
   ]
  },
  {
   "cell_type": "code",
   "execution_count": null,
   "id": "9e305353",
   "metadata": {},
   "outputs": [],
   "source": [
    "#!/bin/python3\n",
    "\n",
    "import math\n",
    "import os\n",
    "import random\n",
    "import re\n",
    "import sys\n",
    "\n",
    "######################################################################\n",
    "#                                                                    #\n",
    "# MY CODE:     Given an integer, if is odd, print Weird, If is even  #\n",
    "#              and in the inclusive range of 2 to 5, print Not Weird,#          \n",
    "#              if is even and in the inclusive range of 6 to 20,     #\n",
    "#              print Weird, if is even and greater than 20, print    #\n",
    "#              Not Weird                                             #\n",
    "#                                                                    #    \n",
    "######################################################################\n",
    "\n",
    "if __name__ == '__main__':\n",
    "    n = int(input().strip())\n",
    "    while n > 100 and n < 1:\n",
    "        n = int(input().strip())\n",
    "    if n % 2 != 0:\n",
    "        print('Weird')\n",
    "    elif n % 2 == 0 and n>=2 and n <= 5:\n",
    "        print('Not Weird')\n",
    "    elif n % 2 == 0 and n >=6 and n<=20:\n",
    "        print('Weird')\n",
    "    elif n % 2 == 0 and n > 20:\n",
    "        print('Not Weird')"
   ]
  },
  {
   "cell_type": "markdown",
   "id": "8f9cc256",
   "metadata": {},
   "source": [
    "### Exercise n° 3 - Arithmetic Operators\n",
    "##### Reference: https://www.hackerrank.com/challenges/python-arithmetic-operators/problem?isFullScreen=true\n",
    "##### This exercise is focused on the use of arithmetic operators such as addition, difference and multiplication"
   ]
  },
  {
   "cell_type": "code",
   "execution_count": null,
   "id": "f57b3d4b",
   "metadata": {},
   "outputs": [],
   "source": [
    "if __name__ == '__main__':\n",
    "    a = int(input())\n",
    "    b = int(input())\n",
    "    \n",
    "################################################################\n",
    "#                                                              #\n",
    "# MY CODE: Given two integers in input, I printed the sum, the #\n",
    "#          difference and the product of these                 #          \n",
    "#                                                              #    \n",
    "################################################################\n",
    "\n",
    "    print(a+b)\n",
    "    print(a-b)\n",
    "    print(a*b)"
   ]
  },
  {
   "cell_type": "markdown",
   "id": "5c08d6ca",
   "metadata": {},
   "source": [
    "### Exercise n° 4 - Python: Division\n",
    "##### Reference: https://www.hackerrank.com/challenges/python-division/problem?isFullScreen=true\n",
    "##### This exercise is focused on the use of the different type of division in Python: integer division or float division"
   ]
  },
  {
   "cell_type": "code",
   "execution_count": null,
   "id": "3bbd1110",
   "metadata": {},
   "outputs": [],
   "source": [
    "if __name__ == '__main__':\n",
    "    a = int(input())\n",
    "    b = int(input())\n",
    "    \n",
    "####################################################################\n",
    "#                                                                  #\n",
    "# MY CODE: Given two integers in input, I printed the integer, the #\n",
    "#          division (the result is rounded to the closest          #\n",
    "#          integer of the division result) and the float division  #                 #          \n",
    "#                                                                  #    \n",
    "####################################################################\n",
    "\n",
    "    print(a//b)\n",
    "    print(a/b)"
   ]
  },
  {
   "cell_type": "markdown",
   "id": "d92dc81f",
   "metadata": {},
   "source": [
    "### Exercise n° 5 - Loops\n",
    "##### Reference: https://www.hackerrank.com/challenges/python-loops/problem?isFullScreen=true\n",
    "##### This exercise is focused on loops. The task is to print the power of each number between 0 and n (read fron STDIN)"
   ]
  },
  {
   "cell_type": "code",
   "execution_count": null,
   "id": "5421ee54",
   "metadata": {},
   "outputs": [],
   "source": [
    "if __name__ == '__main__':\n",
    "    n = int(input())\n",
    "    \n",
    "#####################################################################\n",
    "#                                                                   #\n",
    "# MY CODE: Given a integer in input, n, I printed the second power  #\n",
    "#          of each integer between 0 and n. I did it with a for loop#\n",
    "#          because I knew exactly how many steps I had to take      #          \n",
    "#                                                                   #    \n",
    "#####################################################################    \n",
    "    \n",
    "    for i in range(n):\n",
    "        print(i*i)"
   ]
  },
  {
   "cell_type": "markdown",
   "id": "99685ce9",
   "metadata": {},
   "source": [
    "### Exercise n° 6 - Write a Function\n",
    "##### Reference: https://www.hackerrank.com/challenges/write-a-function/problem?isFullScreen=true\n",
    "##### This exercise is focused on writing functions. The task is to write a function that return if a year is leap or not after checking determined certain conditions"
   ]
  },
  {
   "cell_type": "code",
   "execution_count": null,
   "id": "3fade32e",
   "metadata": {},
   "outputs": [],
   "source": [
    "########################################################################\n",
    "#                                                                      #\n",
    "# MY FUNCTION: I set the boolean condition on False and with a if-else #\n",
    "#              statement I checked conditions: if a year is divisible  #\n",
    "#              by 400 or 4 means are leap years so I changed my boolean#\n",
    "#              condition on True. However, years divisible by 100 are  #\n",
    "#              not leap years, so the function returns True if the year# \n",
    "#              is a leap year and False otherwise.                     #\n",
    "#                                                                      #    \n",
    "########################################################################\n",
    "\n",
    "def is_leap(year):\n",
    "    leap = False\n",
    "    if (year % 400 == 0):\n",
    "        return True\n",
    "    if (year % 100 == 0):\n",
    "        return leap\n",
    "    if (year % 4 == 0):\n",
    "        return True\n",
    "    else:\n",
    "        return False  \n",
    "    return leap\n",
    "\n",
    "####################\n",
    "#                  #\n",
    "#   CODE PROVIDED  #\n",
    "#   BY HACKERANK   #\n",
    "#                  #\n",
    "####################\n",
    "\n",
    "year = int(input())\n",
    "print(is_leap(year))"
   ]
  },
  {
   "cell_type": "markdown",
   "id": "7da9a22a",
   "metadata": {},
   "source": [
    "### Exercise n° 7 - Print Function\n",
    "##### Reference: https://www.hackerrank.com/challenges/python-print/problem?isFullScreen=true\n",
    "##### This exercise is focused on printing a string. The task, given an integer n, is to frint 123...n"
   ]
  },
  {
   "cell_type": "code",
   "execution_count": null,
   "id": "01414b13",
   "metadata": {},
   "outputs": [],
   "source": [
    "if __name__ == '__main__':\n",
    "    n = int(input())\n",
    "    \n",
    "#####################################################################\n",
    "#                                                                   #\n",
    "# MY CODE: Given a integer in input, n, I printed the string 123...n#\n",
    "#          using the foor loop in range (1,n+1) instead of range(n) #\n",
    "#          because this starts from 0. Using the command print I    #\n",
    "#          used 'end' to set the ending of each print, in this case #\n",
    "#          I want that each digits is printed close                 #         \n",
    "#                                                                   #    \n",
    "#####################################################################    \n",
    "    \n",
    "    for i in range(1,n+1):\n",
    "    print(i, end='')"
   ]
  }
 ],
 "metadata": {
  "kernelspec": {
   "display_name": "Python 3 (ipykernel)",
   "language": "python",
   "name": "python3"
  },
  "language_info": {
   "codemirror_mode": {
    "name": "ipython",
    "version": 3
   },
   "file_extension": ".py",
   "mimetype": "text/x-python",
   "name": "python",
   "nbconvert_exporter": "python",
   "pygments_lexer": "ipython3",
   "version": "3.11.4"
  }
 },
 "nbformat": 4,
 "nbformat_minor": 5
}
