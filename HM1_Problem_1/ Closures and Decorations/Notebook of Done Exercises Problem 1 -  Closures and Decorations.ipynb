{
 "cells": [
  {
   "cell_type": "markdown",
   "id": "7e3eb411",
   "metadata": {},
   "source": [
    "## RESOLUTION OF EXERCISES REQUIRED IN PROBLEM 1 \n",
    "### Eleventh Section: Closures and Decorations"
   ]
  },
  {
   "cell_type": "markdown",
   "id": "a4181e7e",
   "metadata": {},
   "source": [
    "### Exercise n° 1 - Standardize Mobile Number Using Decorators\n",
    "##### Reference: https://www.hackerrank.com/challenges/standardize-mobile-number-using-decorators/problem?isFullScreen=true\n",
    "##### This excercise is focused on showcase the use of decorators in Python for altering function behavior, specifically for formatting phone numbers in a standardized way before processing them with function `f`.\n"
   ]
  },
  {
   "cell_type": "code",
   "execution_count": null,
   "id": "eff6975b",
   "metadata": {},
   "outputs": [],
   "source": [
    "######################################################################                                                                                                                         ######################################################################\n",
    "#                                                                    #\n",
    "# MY CODE: This function acts as a decorator to modify the behavior  # \n",
    "#          of a function `f` that processes phone numbers.The        #\n",
    "#          decorator, `wrapper`, takes in a function `f` and returns #\n",
    "#          a new function `fun`. When `fun` is invoked with a list   #\n",
    "#          `l` of phone numbers, it: Extracts the last ten digits    #\n",
    "#           from each number in the list. Formats the number in the  #\n",
    "#           style \"+91 XXXXX XXXXX\". Calls the original function     #\n",
    "#           `f` with the newly formatted list of numbers.            #\n",
    "#                                                                    #\n",
    "######################################################################\n",
    "\n",
    "def wrapper(f):\n",
    "    def fun(l):\n",
    "        f([\"+91 \" + number[-10:-5] + \" \" + number[-5:] for number in l])\n",
    "    return fun\n",
    "\n",
    "####################\n",
    "#                  #\n",
    "#   CODE PROVIDED  #\n",
    "#   BY HACKERANK   #\n",
    "#                  #\n",
    "####################\n",
    "\n",
    "@wrapper\n",
    "def sort_phone(l):\n",
    "    print(*sorted(l), sep='\\n')\n",
    "\n",
    "if __name__ == '__main__':\n",
    "    l = [input() for _ in range(int(input()))]\n",
    "    sort_phone(l) "
   ]
  },
  {
   "cell_type": "markdown",
   "id": "d5030895",
   "metadata": {},
   "source": [
    "### Exercise n° 2 - Decorators 2 - Name Directory\n",
    "##### Reference: https://www.hackerrank.com/challenges/decorators-2-name-directory/problem?isFullScreen=true\n",
    "##### This excercise is focused on illustrate the use of decorators in Python for modifying function behavior, specifically for processing and formatting a list of persons' details in an age-sorted manner.\n"
   ]
  },
  {
   "cell_type": "code",
   "execution_count": null,
   "id": "aea746b8",
   "metadata": {},
   "outputs": [],
   "source": [
    "######################################################################                                                                                                                         ######################################################################\n",
    "#                                                                    #\n",
    "# MY CODE: This function, `person_lister`, serves as a decorator     #\n",
    "#          that alters the behavior of a given function `f`. When    #\n",
    "#          applied, it ensures that the list of people's details     #\n",
    "#          passed to `f` is sorted by age. The function `f` is then  #\n",
    "#          invoked on this sorted list, allowing for age-ordered     #\n",
    "#          processing of individuals' details.                       #      \n",
    "#                                                                    #\n",
    "######################################################################\n",
    "\n",
    "import operator\n",
    "\n",
    "def person_lister(f):\n",
    "    def inner(people):\n",
    "        return map(f, sorted(people, key=lambda person: int(person[2])))\n",
    "    return inner\n",
    "\n",
    "####################\n",
    "#                  #\n",
    "#   CODE PROVIDED  #\n",
    "#   BY HACKERANK   #\n",
    "#                  #\n",
    "####################\n",
    "\n",
    "@person_lister\n",
    "def name_format(person):\n",
    "    return (\"Mr. \" if person[3] == \"M\" else \"Ms. \") + person[0] + \" \" + person[1]\n",
    "\n",
    "if __name__ == '__main__':\n",
    "    people = [input().split() for i in range(int(input()))]\n",
    "    print(*name_format(people), sep='\\n')"
   ]
  }
 ],
 "metadata": {
  "kernelspec": {
   "display_name": "Python 3 (ipykernel)",
   "language": "python",
   "name": "python3"
  },
  "language_info": {
   "codemirror_mode": {
    "name": "ipython",
    "version": 3
   },
   "file_extension": ".py",
   "mimetype": "text/x-python",
   "name": "python",
   "nbconvert_exporter": "python",
   "pygments_lexer": "ipython3",
   "version": "3.11.4"
  }
 },
 "nbformat": 4,
 "nbformat_minor": 5
}
