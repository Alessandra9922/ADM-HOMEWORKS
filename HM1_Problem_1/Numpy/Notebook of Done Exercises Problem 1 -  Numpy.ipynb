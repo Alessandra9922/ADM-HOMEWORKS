{
 "cells": [
  {
   "cell_type": "markdown",
   "id": "1069f963",
   "metadata": {},
   "source": [
    "## RESOLUTION OF EXERCISES REQUIRED IN PROBLEM 1 \n",
    "### Twelfth Section: Numpy"
   ]
  },
  {
   "cell_type": "markdown",
   "id": "b0346975",
   "metadata": {},
   "source": [
    "### Exercise n° 1 - Arrays\n",
    "##### Reference: https://www.hackerrank.com/challenges/np-arrays/problem?isFullScreen=true\n",
    "##### This excercise is focused on "
   ]
  },
  {
   "cell_type": "code",
   "execution_count": null,
   "id": "1f134a6c",
   "metadata": {},
   "outputs": [],
   "source": [
    "################################################################################\n",
    "#                                                                              #\n",
    "# MY CODE: The task is to print a reversed numpy array with the element type   #\n",
    "#          float so I read from input given space separated list of numbers    #\n",
    "#          transform them into an array using numpy and them reverse the array #\n",
    "#          and print it in float type so I passed to the numpy.array() the     #\n",
    "#          array and the type of number in the array                           #\n",
    "#                                                                              #\n",
    "################################################################################\n",
    "\n",
    "import numpy\n",
    "\n",
    "def arrays(arr):\n",
    "    a = numpy.array(arr,float)\n",
    "    result = a[::-1]\n",
    "    return result\n",
    "\n",
    "arr = input().strip().split(' ')\n",
    "result = arrays(arr)\n",
    "print(result)"
   ]
  },
  {
   "cell_type": "markdown",
   "id": "86ba81ea",
   "metadata": {},
   "source": [
    "### Exercise n° 2 - Shape and Reshape\n",
    "##### Reference: https://www.hackerrank.com/challenges/np-shape-reshape/problem?isFullScreen=true\n",
    "##### This excercise is focused on learning how I can change the shape of my array"
   ]
  },
  {
   "cell_type": "code",
   "execution_count": null,
   "id": "cf836783",
   "metadata": {},
   "outputs": [],
   "source": [
    "################################################################################\n",
    "#                                                                              #\n",
    "# MY CODE: The task is to convert the list given in input in 3x3 numpy array   #\n",
    "#          so to do this I use the numpy.shape = () to assign the new shape to #\n",
    "#          the array                                                           #\n",
    "#                                                                              #\n",
    "################################################################################\n",
    "\n",
    "import numpy\n",
    "\n",
    "arr = input().strip().split(' ')\n",
    "a=numpy.array(arr,int)\n",
    "a.shape = (3,3)\n",
    "print (a)"
   ]
  },
  {
   "cell_type": "markdown",
   "id": "420dc689",
   "metadata": {},
   "source": [
    "### Exercise n° 3 - Transpose and Flatten\n",
    "##### Reference: https://www.hackerrank.com/challenges/np-transpose-and-flatten/problem?isFullScreen=true\n",
    "##### This excercise is focused on learning the use of numpy.transpose() and numpy.flatten() that it useful to \"change\" the array"
   ]
  },
  {
   "cell_type": "code",
   "execution_count": null,
   "id": "76c7217f",
   "metadata": {},
   "outputs": [],
   "source": [
    "##################################################################################\n",
    "#                                                                                #\n",
    "# MY CODE: The task is to print the transpose and flatten matrix, matrix which   #\n",
    "#          values was read from the input and them was transformed into matrix   #\n",
    "#          with numpy, then I calculate the numpy.transpose() and numpy.flatten()# \n",
    "#          to the interested matrix                                              #\n",
    "#                                                                                #\n",
    "##################################################################################\n",
    "\n",
    "import numpy\n",
    "\n",
    "N,M=map(int,input().split())\n",
    "arr = [list(map(int, input().split())) for i in range(N)]\n",
    "my_array=numpy.array(arr,int)\n",
    "print (numpy.transpose(my_array))\n",
    "print (my_array.flatten())"
   ]
  },
  {
   "cell_type": "markdown",
   "id": "67d1ed94",
   "metadata": {},
   "source": [
    "### Exercise n° 4 - Concatenate\n",
    "##### Reference: https://www.hackerrank.com/challenges/np-concatenate/problem?isFullScreen=true\n",
    "##### This excercise is focused on learning how can I concatenate() two numpy.array()"
   ]
  },
  {
   "cell_type": "code",
   "execution_count": null,
   "id": "0b37dbd6",
   "metadata": {},
   "outputs": [],
   "source": [
    "################################################################################\n",
    "#                                                                              #\n",
    "# MY CODE: The task is to print the concatenated array of size (N+M)*P where   #\n",
    "#          these values are given from the input. After transforming the input #\n",
    "#          value into matrix with numpy I concateneted the 2 matrix using      #\n",
    "#          numpy.cancatenate()                                                 #\n",
    "#                                                                              #\n",
    "################################################################################\n",
    "\n",
    "import numpy\n",
    "\n",
    "N,M,P=map(int,input().split())\n",
    "arr1 = [list(map(int, input().split())) for i in range(N)]\n",
    "arr2 = [list(map(int, input().split())) for i in range(M)]\n",
    "my_array1=numpy.array(arr1,int)\n",
    "my_array2=numpy.array(arr2,int)\n",
    "print(numpy.concatenate((my_array1,my_array2), axis=0))"
   ]
  },
  {
   "cell_type": "markdown",
   "id": "b0ec7de4",
   "metadata": {},
   "source": [
    "### Exercise n° 5 - Zeros and Ones\n",
    "##### Reference: https://www.hackerrank.com/challenges/np-zeros-and-ones/problem?isFullScreen=true\n",
    "##### This excercise is focused on "
   ]
  },
  {
   "cell_type": "code",
   "execution_count": null,
   "id": "be2f0393",
   "metadata": {},
   "outputs": [],
   "source": [
    "################################################################################\n",
    "#                                                                              #\n",
    "# MY CODE: The task is to print an array using the numpy.zeroes tool and then  #\n",
    "#          to print an array with the numpy.ones tool, so I used them to get   #\n",
    "#          the resultafter reading from input values and transformed it into   #\n",
    "#          numpy arrays                                                        #\n",
    "#                                                                              #\n",
    "################################################################################\n",
    "\n",
    "import numpy\n",
    "\n",
    "N = tuple(map(int, input().split()))\n",
    "print(numpy.zeros(N, int))\n",
    "print(numpy.ones(N, int))"
   ]
  },
  {
   "cell_type": "markdown",
   "id": "0751f3f0",
   "metadata": {},
   "source": [
    "### Exercise n° 6 - Eye And Identity\n",
    "##### Reference: https://www.hackerrank.com/challenges/np-eye-and-identity/problem?isFullScreen=true\n",
    "##### This excercise is focused on creating the identity matrix or a matrix that have ones on one diagol and zeros everywhere"
   ]
  },
  {
   "cell_type": "code",
   "execution_count": null,
   "id": "6780261e",
   "metadata": {},
   "outputs": [],
   "source": [
    "################################################################################\n",
    "#                                                                              #\n",
    "# MY CODE: The task is to print an array of size NxM with its main diagonal    #\n",
    "#          elements as 1's and 0's everywhere so I used the numpy.eye() to do  #\n",
    "#          this result passing to the numpy,eye() the arrays                   #\n",
    "#                                                                              #\n",
    "################################################################################\n",
    "\n",
    "import numpy\n",
    "numpy.set_printoptions(legacy='1.13')\n",
    "\n",
    "\n",
    "N,M=map(int,input().split())\n",
    "print(numpy.eye(N,M))"
   ]
  },
  {
   "cell_type": "markdown",
   "id": "78b583f6",
   "metadata": {},
   "source": [
    "### Exercise n° 7 - Array Mathematics\n",
    "##### Reference: https://www.hackerrank.com/challenges/np-array-mathematics/problem?isFullScreen=true\n",
    "##### This excercise is focused on learning the operations that we can do mathematically speaking with arrays in numpy"
   ]
  },
  {
   "cell_type": "code",
   "execution_count": null,
   "id": "9b65309f",
   "metadata": {},
   "outputs": [],
   "source": [
    "################################################################################\n",
    "#                                                                              #\n",
    "# MY CODE: The task is to compute the sum, the difference, the moltiplication, #\n",
    "#          the integer division, the module and the power elevation between two#\n",
    "#          arrays                                                              #\n",
    "#                                                                              #\n",
    "################################################################################\n",
    "\n",
    "import numpy\n",
    "\n",
    "one = []\n",
    "two = []\n",
    "n, m = map(int, input().split())\n",
    "for _ in range(n):\n",
    "    one.append(input().split())\n",
    "for _ in range(n):\n",
    "    two.append(input().split())\n",
    "\n",
    "a = numpy.array(one, int)\n",
    "b = numpy.array(two, int)\n",
    "\n",
    "print (numpy.add(a, b))\n",
    "print (numpy.subtract(a, b))\n",
    "print (numpy.multiply(a, b))\n",
    "print (numpy.floor_divide(a, b))\n",
    "print (numpy.mod(a, b))\n",
    "print (numpy.power(a, b))"
   ]
  },
  {
   "cell_type": "markdown",
   "id": "73fc37cc",
   "metadata": {},
   "source": [
    "### Exercise n° 8 - Floor, Ceil and Rint\n",
    "##### Reference: https://www.hackerrank.com/challenges/floor-ceil-and-rint/problem?isFullScreen=true\n",
    "##### This excercise is focused on learning the use of numpy.floor(), numpy.ceil() and numpy.rint() "
   ]
  },
  {
   "cell_type": "code",
   "execution_count": null,
   "id": "bd0ca573",
   "metadata": {},
   "outputs": [],
   "source": [
    "################################################################################\n",
    "#                                                                              #\n",
    "# MY CODE: The task is to print the floor, ceil and rint of all the elements of#\n",
    "#          the array so I used in my code numpy.floor(), numpy,ceil() and      #\n",
    "#          numpy.rint() applied to the array and then I print everything       #\n",
    "#                                                                              #\n",
    "################################################################################\n",
    "\n",
    "import numpy\n",
    "numpy.set_printoptions(legacy='1.13')\n",
    "\n",
    "a=input().split()\n",
    "arr=numpy.array(a,float)\n",
    "print(numpy.floor(arr))\n",
    "print(numpy.ceil(arr))\n",
    "print(numpy.rint(arr))"
   ]
  },
  {
   "cell_type": "markdown",
   "id": "a00f99d5",
   "metadata": {},
   "source": [
    "### Exercise n° 9 - Sum and Prod\n",
    "##### Reference: https://www.hackerrank.com/challenges/np-sum-and-prod/problem?isFullScreen=true\n",
    "##### This excercise is focused on learnign how to add and how to multiply two arrays"
   ]
  },
  {
   "cell_type": "code",
   "execution_count": null,
   "id": "d3d1c78a",
   "metadata": {},
   "outputs": [],
   "source": [
    "################################################################################\n",
    "#                                                                              #\n",
    "# MY CODE: The task is to compute the sum along axis 0, then print the product #\n",
    "#          of the sum so I read two map of values, I transform them into numpy #\n",
    "#          2D array and I used numpy.sum(), before, numpy.prod(), after, to    #\n",
    "#          achieve the result                                                  #\n",
    "#                                                                              #\n",
    "################################################################################\n",
    "\n",
    "import numpy\n",
    "\n",
    "N,M=map(int,input().split())\n",
    "a = [list(map(int, input().split())) for i in range(N)]\n",
    "arr=numpy.array(a,int)\n",
    "s=numpy.sum(arr, axis=0)\n",
    "print(numpy.prod(s))"
   ]
  },
  {
   "cell_type": "markdown",
   "id": "84ccca6b",
   "metadata": {},
   "source": [
    "### Exercise n° 10 - Min and Max\n",
    "##### Reference: https://www.hackerrank.com/challenges/np-min-and-max/problem?isFullScreen=true\n",
    "##### This excercise is focused on learning the use of numpy.min() and numpy.max() to find min and max, respectivly, of an array "
   ]
  },
  {
   "cell_type": "code",
   "execution_count": null,
   "id": "4c8975bd",
   "metadata": {},
   "outputs": [],
   "source": [
    "##############################################################################\n",
    "#                                                                            #\n",
    "# MY CODE: The task is to compute the min along axis 1 and then print the    #\n",
    "#          max of that result so after reading in input a map of numbers     #\n",
    "#          that after become an array with numpy I use numpy.min() specifing #\n",
    "#          axis 1 and then at the result I applied numpy.max() to give the   #\n",
    "#          max                                                               #\n",
    "#                                                                            #\n",
    "##############################################################################\n",
    "\n",
    "import numpy\n",
    "\n",
    "N,M=map(int,input().split())\n",
    "a = [list(map(int, input().split())) for i in range(N)]\n",
    "arr=numpy.array(a,int)\n",
    "s=numpy.min(arr, axis=1)\n",
    "print(numpy.max(s))"
   ]
  },
  {
   "cell_type": "markdown",
   "id": "1786c4d7",
   "metadata": {},
   "source": [
    "### Exercise n° 11 - Mean, Var and Std\n",
    "##### Reference: https://www.hackerrank.com/challenges/np-mean-var-and-std/problem?isFullScreen=true\n",
    "##### This excercise is focused on learning how can I calculate the Mean, Var and Std of two arrays using numpy"
   ]
  },
  {
   "cell_type": "code",
   "execution_count": null,
   "id": "15dcfc3b",
   "metadata": {},
   "outputs": [],
   "source": [
    "##############################################################################\n",
    "#                                                                            #\n",
    "# MY CODE: The task is to print first the mean, second the var and third the #\n",
    "#          std of an array. To do this I used numpy.mean(), numpy.var() and  #\n",
    "#          numpy.std() and I print them                                      #\n",
    "#                                                                            #\n",
    "##############################################################################\n",
    "\n",
    "import numpy\n",
    "\n",
    "N,M=map(int,input().split())\n",
    "a = [list(map(int, input().split())) for i in range(N)]\n",
    "arr=numpy.array(a, float)\n",
    "print(numpy.mean(arr, axis=1))\n",
    "print(numpy.var(arr, axis=0))\n",
    "print(numpy.round(numpy.std(arr), 11))"
   ]
  },
  {
   "cell_type": "markdown",
   "id": "272647f1",
   "metadata": {},
   "source": [
    "### Exercise n° 12 - Dot and Cross\n",
    "##### Reference: https://www.hackerrank.com/challenges/np-dot-and-cross/problem?isFullScreen=true\n",
    "##### This excercise is focused on learning the fact that we can compute the dot and the cross product between two arrays with numpy"
   ]
  },
  {
   "cell_type": "code",
   "execution_count": null,
   "id": "225204ca",
   "metadata": {},
   "outputs": [],
   "source": [
    "##############################################################################\n",
    "#                                                                            #\n",
    "# MY CODE: The task is to print the matrix multiplication of two matrix A and#\n",
    "#          B read from the input as a string of numbers and then transformed #\n",
    "#          with numpy into array, after that I use numpy.dot() to do the     #\n",
    "#          matrix multiplication and I printi it                             #\n",
    "#                                                                            #\n",
    "##############################################################################\n",
    "\n",
    "import numpy\n",
    "\n",
    "N=int(input())\n",
    "A = [list(map(int, input().split())) for i in range(N)]\n",
    "B = [list(map(int, input().split())) for i in range(N)]\n",
    "A_n=numpy.array(A, int)\n",
    "B_n=numpy.array(B, int)\n",
    "print(numpy.dot(A_n,B_n))"
   ]
  },
  {
   "cell_type": "markdown",
   "id": "3da0f8c5",
   "metadata": {},
   "source": [
    "### Exercise n° 13 - Inner and Outer\n",
    "##### Reference: https://www.hackerrank.com/challenges/np-dot-and-cross/problem?isFullScreen=true\n",
    "##### This excercise is focused on learn the numpy.inner() and numpy.outer() functions that represent the inner product and the outer product between arrays"
   ]
  },
  {
   "cell_type": "code",
   "execution_count": null,
   "id": "758f25d4",
   "metadata": {},
   "outputs": [],
   "source": [
    "##############################################################################\n",
    "#                                                                            #\n",
    "# MY CODE: The task is to print the inner product and the outer product of   #\n",
    "#          two given string that will be transformed into arrays thanks to   #\n",
    "#          numpy, after that I use numpy.inner() and numpy.outer() to do the #\n",
    "#          task                                                              #\n",
    "#                                                                            #\n",
    "##############################################################################\n",
    "\n",
    "import numpy\n",
    "\n",
    "A = input().split()\n",
    "B = input().split()\n",
    "A_n = numpy.array(A,int)\n",
    "B_n = numpy.array(B,int)\n",
    "print(numpy.inner(A_n,B_n))\n",
    "print(numpy.outer(A_n,B_n))"
   ]
  },
  {
   "cell_type": "markdown",
   "id": "fd83980a",
   "metadata": {},
   "source": [
    "### Exercise n° 14 - Polynomials\n",
    "##### Reference: https://www.hackerrank.com/challenges/np-dot-and-cross/problem?isFullScreen=true\n",
    "##### This excercise is focused on learn what can I do with numpy in reference at polynomials. In this case the task is to evaluate a polynomial in a specific point"
   ]
  },
  {
   "cell_type": "code",
   "execution_count": null,
   "id": "175c29d7",
   "metadata": {},
   "outputs": [],
   "source": [
    "##############################################################################\n",
    "#                                                                            #\n",
    "# MY CODE: The task is to evaluate a polynomial in a specific point          #\n",
    "#          so I have done a code that reads in input the coefficient of the  #\n",
    "#          polynomials and then using \"numpy.polyval()\" evaluate the         #\n",
    "#          polynomial in the point that I have, even, read from input        #\n",
    "#          The evaluation has done after make a string an array with numpy   #\n",
    "#                                                                            #\n",
    "##############################################################################\n",
    "\n",
    "import numpy\n",
    "\n",
    "coeff = input().split()\n",
    "coeff_n = numpy.array(coeff,float)\n",
    "x = int(input())\n",
    "print(numpy.polyval(coeff_n, x))"
   ]
  },
  {
   "cell_type": "markdown",
   "id": "1695935e",
   "metadata": {},
   "source": [
    "### Exercise n° 15 - Linear algebra\n",
    "##### Reference: https://www.hackerrank.com/challenges/np-dot-and-cross/problem?isFullScreen=true\n",
    "##### This excercise is focused on learn how to use some techniques of linear algebra on the array in Python"
   ]
  },
  {
   "cell_type": "code",
   "execution_count": null,
   "id": "6daa18f3",
   "metadata": {},
   "outputs": [],
   "source": [
    "##############################################################################\n",
    "#                                                                            #\n",
    "# MY CODE: The task is to find the determinant of a square matrix and print  #\n",
    "#          it with 2 places decimal so I have done a code that reads in      #\n",
    "#          input the dimension of the matrix and then with \"numpy.linalg.det\"#\n",
    "#          calculates the determinant                                        #\n",
    "#                                                                            #\n",
    "##############################################################################\n",
    "\n",
    "import numpy\n",
    "\n",
    "N=int(input())\n",
    "A = [input().split() for i in range(N)]\n",
    "A_n = numpy.array(A,float)\n",
    "print(numpy.round(numpy.linalg.det(A_n), 2))"
   ]
  }
 ],
 "metadata": {
  "kernelspec": {
   "display_name": "Python 3 (ipykernel)",
   "language": "python",
   "name": "python3"
  },
  "language_info": {
   "codemirror_mode": {
    "name": "ipython",
    "version": 3
   },
   "file_extension": ".py",
   "mimetype": "text/x-python",
   "name": "python",
   "nbconvert_exporter": "python",
   "pygments_lexer": "ipython3",
   "version": "3.11.4"
  }
 },
 "nbformat": 4,
 "nbformat_minor": 5
}
